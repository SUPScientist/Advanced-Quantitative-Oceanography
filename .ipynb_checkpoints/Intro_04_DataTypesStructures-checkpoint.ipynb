{
 "cells": [
  {
   "cell_type": "markdown",
   "metadata": {
    "slideshow": {
     "slide_type": "slide"
    }
   },
   "source": [
    "# Data types & Structures"
   ]
  },
  {
   "cell_type": "markdown",
   "metadata": {
    "slideshow": {
     "slide_type": "fragment"
    }
   },
   "source": [
    "### A great advatage of `Python` is the type of data it can handle & combine\n",
    "Python has been widely used to handle internet related operations, which means lots and lots of text and numbers. combined!"
   ]
  },
  {
   "cell_type": "markdown",
   "metadata": {},
   "source": [
    "***"
   ]
  },
  {
   "cell_type": "markdown",
   "metadata": {
    "slideshow": {
     "slide_type": "slide"
    }
   },
   "source": [
    "## Let's start with the basic types!\n",
    "### Like other programing languages, `Python` data types include integers, floats, complex, and strings & boolean"
   ]
  },
  {
   "cell_type": "markdown",
   "metadata": {},
   "source": [
    "<div class=\"alert alert-block alert-info\">\n",
    "    In the next cell, assign a float value to <b>x</b> and execute the cell\n",
    "</div>"
   ]
  },
  {
   "cell_type": "code",
   "execution_count": null,
   "metadata": {
    "slideshow": {
     "slide_type": "fragment"
    }
   },
   "outputs": [],
   "source": [
    "lat = 20\n",
    "print(lat)"
   ]
  },
  {
   "cell_type": "markdown",
   "metadata": {},
   "source": [
    "<div class=\"alert alert-block alert-info\">\n",
    "    Assign an integer value to <b>y</b> and execute the cell\n",
    "</div>"
   ]
  },
  {
   "cell_type": "code",
   "execution_count": null,
   "metadata": {},
   "outputs": [],
   "source": [
    "y = \n",
    "print(y, lat*y)"
   ]
  },
  {
   "cell_type": "markdown",
   "metadata": {},
   "source": [
    "### Complex values are identified by a `j` at the end\n",
    "<div class=\"alert alert-block alert-info\">\n",
    "    Assign a complex value to <b>z</b> and execute the cell\n",
    "</div>"
   ]
  },
  {
   "cell_type": "code",
   "execution_count": null,
   "metadata": {},
   "outputs": [],
   "source": [
    "z = \n",
    "print(z, type(z))"
   ]
  },
  {
   "cell_type": "markdown",
   "metadata": {},
   "source": [
    "### Variables can be reassigned to other types anytime\n",
    "<div class=\"alert alert-block alert-info\">\n",
    "    Execute the next cell\n",
    "</div>"
   ]
  },
  {
   "cell_type": "code",
   "execution_count": null,
   "metadata": {},
   "outputs": [],
   "source": [
    "lat = 'Latitude'  \n",
    "print(lat)\n",
    "step = True\n",
    "print(step)"
   ]
  },
  {
   "cell_type": "markdown",
   "metadata": {},
   "source": [
    "<div class=\"alert alert-block alert-info\">\n",
    "    Define your own string and boolean variables and print their type in the next cell\n",
    "</div>"
   ]
  },
  {
   "cell_type": "code",
   "execution_count": null,
   "metadata": {},
   "outputs": [],
   "source": []
  },
  {
   "cell_type": "markdown",
   "metadata": {
    "slideshow": {
     "slide_type": "fragment"
    }
   },
   "source": [
    "## One of the best types: datetime!\n",
    "<div class=\"alert alert-block alert-info\">\n",
    "    - Execute the code in the next cell to define two datetime variables: <b>today1</b> & <b>today2</b>\n",
    "</div>"
   ]
  },
  {
   "cell_type": "code",
   "execution_count": null,
   "metadata": {
    "slideshow": {
     "slide_type": "fragment"
    }
   },
   "outputs": [],
   "source": [
    "from datetime import date # call date function inside the datetime package\n",
    "today1 = date.today()\n",
    "from datetime import datetime # call datetime function inside the datetime package\n",
    "today2 = datetime.now()"
   ]
  },
  {
   "cell_type": "markdown",
   "metadata": {},
   "source": [
    "<div class=\"alert alert-block alert-info\">\n",
    "    - Now print both variables\n",
    "    <br>\n",
    "    - Try printing <b>today1.month</b>\n",
    "    <br>\n",
    "    - Try printing the following <b>today2.strftime('%c')</b>\n",
    "    <br>\n",
    "    - Now print the type of one of your date variables\n",
    "</div> "
   ]
  },
  {
   "cell_type": "code",
   "execution_count": null,
   "metadata": {},
   "outputs": [],
   "source": []
  },
  {
   "cell_type": "markdown",
   "metadata": {},
   "source": [
    "<br>Note the use of <b>.</b> after a variable. This refers to a method of the variable or, as Python refers to it, the object."
   ]
  },
  {
   "cell_type": "markdown",
   "metadata": {},
   "source": [
    "We will use other functions of the datetime package later, and you could find more details about the attributes of the datetime object (variable): https://www.guru99.com/date-time-and-datetime-classes-in-python.html\n",
    "***"
   ]
  },
  {
   "cell_type": "markdown",
   "metadata": {
    "slideshow": {
     "slide_type": "slide"
    }
   },
   "source": [
    "## Python has a some basic data collections, we will talk about three of them:\n",
    "    List - ordered, changeable, allows duplicates\n",
    "    Tuple - ordered, unchangeable, allows duplicates\n",
    "    Dictionary - unordered, changeable, no duplicates allowed\n",
    "***"
   ]
  },
  {
   "cell_type": "markdown",
   "metadata": {},
   "source": [
    "## Lists: ordered, changeable, allows dupplicates\n",
    "<div class=\"alert alert-block alert-info\">\n",
    "    - Execute the code below and print the list\n",
    "    <br>\n",
    "    - Print the type of <b>mylist</b>\n",
    "</div>"
   ]
  },
  {
   "cell_type": "code",
   "execution_count": null,
   "metadata": {},
   "outputs": [],
   "source": [
    "mylist=['temperature', 'wind', 'salinity']  # note the use of [ ]"
   ]
  },
  {
   "cell_type": "markdown",
   "metadata": {},
   "source": [
    "### To access an element of a list we use the indices, that start at `0`\n",
    "<div class=\"alert alert-block alert-info\">\n",
    "    - Try printing: <b>mylist[0]</b>\n",
    "    <br>\n",
    "    - Now try reassigning the value of the second value to <b>'current velocity'</b>\n",
    "</div>"
   ]
  },
  {
   "cell_type": "code",
   "execution_count": null,
   "metadata": {},
   "outputs": [],
   "source": []
  },
  {
   "cell_type": "markdown",
   "metadata": {},
   "source": [
    "### To add an element to the list use the method append\n",
    "<div class=\"alert alert-block alert-info\">\n",
    "    - Try <b>mylist.append('wind speed')</b>\n",
    "    <br>\n",
    "    - Then execute the next cell to print the entire list with a for loop\n",
    "</div>"
   ]
  },
  {
   "cell_type": "code",
   "execution_count": null,
   "metadata": {},
   "outputs": [],
   "source": []
  },
  {
   "cell_type": "code",
   "execution_count": null,
   "metadata": {},
   "outputs": [],
   "source": [
    "for myvar in mylist:\n",
    "    print(myvar+\" has been recorded\")"
   ]
  },
  {
   "cell_type": "markdown",
   "metadata": {},
   "source": [
    "### Copying a list (or another object) needs to be done explicitely, other wise is just a new name for your variable\n",
    "<div class=\"alert alert-block alert-info\">\n",
    "    - Try these two codes:\n",
    "    <br>\n",
    "       <b>   yourlist1 = mylist.copy()</b>\n",
    "    <br>\n",
    "       <b>   yourlist2 = mylist</b>\n",
    "    <br>\n",
    "    - Then modify <b>yourlist1</b> and print it along with <b>mylist</b>\n",
    "    <br>\n",
    "    - Now modify <b>yourlist2</b> and print it along with <b>mylist</b>\n",
    "</div>"
   ]
  },
  {
   "cell_type": "code",
   "execution_count": null,
   "metadata": {},
   "outputs": [],
   "source": []
  },
  {
   "cell_type": "markdown",
   "metadata": {},
   "source": [
    "***\n",
    "## Tuples: ordered, unchangeable, allows duplicates\n",
    "<div class=\"alert alert-block alert-info\">\n",
    "    - Execute the code below and print the tuple\n",
    "    <br>\n",
    "    - Print the type of <b>mytuple</b>\n",
    "    <br>\n",
    "    - Print one element of <b>mytuple</b>\n",
    "</div>"
   ]
  },
  {
   "cell_type": "code",
   "execution_count": null,
   "metadata": {},
   "outputs": [],
   "source": [
    "mytuple = ('latitude', 'longitude', 'time')  # note the use of ( )"
   ]
  },
  {
   "cell_type": "markdown",
   "metadata": {},
   "source": [
    "<div class=\"alert alert-block alert-info\">\n",
    "    - Now try reassigning an element of <b>mytuple</b>\n",
    "</div>"
   ]
  },
  {
   "cell_type": "code",
   "execution_count": null,
   "metadata": {},
   "outputs": [],
   "source": []
  },
  {
   "cell_type": "markdown",
   "metadata": {},
   "source": [
    "*** \n",
    "## Dictionaries: unordered, changeable, no duplicates allowed\n",
    "### Indexed pair of keys and values\n",
    "<div class=\"alert alert-block alert-info\">\n",
    "    - Execute the code below, and print the dictionary\n",
    "    <br>\n",
    "    - Add a new element to <b>mydict</b> with <b>mydict['units']='C'</b>\n",
    "    <br>\n",
    "    - Print one element of <b>mydict</b>. <i>Hint: the key is the key</i> \n",
    "</div>"
   ]
  },
  {
   "cell_type": "code",
   "execution_count": null,
   "metadata": {},
   "outputs": [],
   "source": [
    "mydict = {'instrument': 'temperature sensor', 'measurement':'SST','depth': 5}"
   ]
  },
  {
   "cell_type": "code",
   "execution_count": null,
   "metadata": {},
   "outputs": [],
   "source": []
  },
  {
   "cell_type": "markdown",
   "metadata": {
    "slideshow": {
     "slide_type": "slide"
    }
   },
   "source": [
    "Certain libraries have specific data structures - arrays, data frames, and datasets\n",
    "examples of each, but we will go back talking about each library."
   ]
  },
  {
   "cell_type": "markdown",
   "metadata": {},
   "source": [
    "***\n",
    "***\n",
    "# Few words about `Objects`, `Attributes` & `Methods`\n",
    "## `Python` is an object oriented programming language. This means almost everything is an object or instances of a class. Variables are objects. And therefore they have `attributes` & `methods`\n",
    "\n",
    "### `Properties` or `Attributes` are accessed with  `.attribute` after the object\n",
    "### `Methods` are functions, & are accessed with `.method(arguments)` after the object\n",
    "We're not going to teach you how to create classes with properties or methods, but how to access them, because we will use them extensively\n",
    "<div class=\"alert alert-block alert-info\">\n",
    "    Execute the code in the next cell to access the attributes and one method of the class <b>date</b>\n",
    "    </div>"
   ]
  },
  {
   "cell_type": "code",
   "execution_count": null,
   "metadata": {},
   "outputs": [],
   "source": [
    "today = date.today()\n",
    "print(today)\n",
    "## Date object attributes\n",
    "print(today.year, today.month, today.day) \n",
    "## Date object method 'ctime' - do not need arguments\n",
    "print(today.ctime())"
   ]
  }
 ],
 "metadata": {
  "kernelspec": {
   "display_name": "Python 3",
   "language": "python",
   "name": "python3"
  },
  "language_info": {
   "codemirror_mode": {
    "name": "ipython",
    "version": 3
   },
   "file_extension": ".py",
   "mimetype": "text/x-python",
   "name": "python",
   "nbconvert_exporter": "python",
   "pygments_lexer": "ipython3",
   "version": "3.7.1"
  }
 },
 "nbformat": 4,
 "nbformat_minor": 2
}
