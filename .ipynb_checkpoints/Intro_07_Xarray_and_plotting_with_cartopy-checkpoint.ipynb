{
 "cells": [
  {
   "cell_type": "markdown",
   "metadata": {},
   "source": [
    "# Plotting with [cartopy](https://scitools.org.uk/cartopy/docs/latest/)\n",
    "\n",
    "From Cartopy website:\n",
    "\n",
    "* Cartopy is a Python package designed for geospatial data processing in order to produce maps and other geospatial data analyses.\n",
    "\n",
    "* Cartopy makes use of the powerful PROJ.4, NumPy and Shapely libraries and includes a programmatic interface built on top of Matplotlib for the creation of publication quality maps.\n",
    "\n",
    "* Key features of cartopy are its object oriented projection definitions, and its ability to transform points, lines, vectors, polygons and images between those projections.\n",
    "\n",
    "* You will find cartopy especially useful for large area / small scale data, where Cartesian assumptions of spherical data traditionally break down. If you’ve ever experienced a singularity at the pole or a cut-off at the dateline, it is likely you will appreciate cartopy’s unique features!\n"
   ]
  },
  {
   "cell_type": "code",
   "execution_count": 1,
   "metadata": {},
   "outputs": [
    {
     "name": "stderr",
     "output_type": "stream",
     "text": [
      "C:\\Users\\gentemann\\Miniconda3\\envs\\satenv\\lib\\site-packages\\xarray\\core\\merge.py:17: FutureWarning: The Panel class is removed from pandas. Accessing it from the top-level namespace will also be removed in the next version\n",
      "  PANDAS_TYPES = (pd.Series, pd.DataFrame, pd.Panel)\n"
     ]
    }
   ],
   "source": [
    "import numpy as np\n",
    "import matplotlib.pyplot as plt\n",
    "import xarray as xr\n",
    "import cartopy.crs as ccrs"
   ]
  },
  {
   "cell_type": "markdown",
   "metadata": {},
   "source": [
    "# Read in data using xarray\n",
    "- Read in the Saildrone USV file either from a local disc `xr.open_dataset()\n",
    "- change latitude and longitude to lat and lon `.rename({'longitude':'lon','latitude':'lat'})`\n"
   ]
  },
  {
   "cell_type": "code",
   "execution_count": 2,
   "metadata": {},
   "outputs": [],
   "source": [
    "file = './data/saildrone-gen_5-antarctica_circumnavigation_2019-sd1020-20190119T040000-20190803T043000-1440_minutes-v1.1564857794963.nc'\n",
    "\n",
    "ds_usv = \n"
   ]
  },
  {
   "cell_type": "markdown",
   "metadata": {},
   "source": [
    "# Open the dataset, mask land, plot result\n",
    "*`xr.open_dataset`\n",
    "* use `.where` to mask values equal to 1"
   ]
  },
  {
   "cell_type": "code",
   "execution_count": null,
   "metadata": {},
   "outputs": [],
   "source": [
    "#If you are offline use the first url\n",
    "#url = './data/20111101120000-CMC-L4_GHRSST-SSTfnd-CMC0.2deg-GLOB-v02.0-fv02.0.nc')\n",
    "url = 'https://podaac-opendap.jpl.nasa.gov/opendap/allData/ghrsst/data/GDS2/L4/GLOB/CMC/CMC0.2deg/v2/2011/305/20111101120000-CMC-L4_GHRSST-SSTfnd-CMC0.2deg-GLOB-v02.0-fv02.0.nc'\n",
    "\n",
    "ds_sst = \n",
    "\n",
    "ds_sst = \n",
    "\n"
   ]
  },
  {
   "cell_type": "markdown",
   "metadata": {},
   "source": [
    "\n",
    "## explore the in situ data and quickly plot using cartopy\n",
    "\n",
    "* first set up the axis with the projection you want: https://scitools.org.uk/cartopy/docs/latest/crs/projections.html\n",
    "\n",
    "* plot to that axis and tell the projection that your data is in\n",
    "* set a background image  `ax.background_img('ne_shaded')`\n",
    "* draw coastlines `ax.coastlines(resolution='50m')`\n",
    "* add a colorbary and label it `cax = plt.colorbar(cs1)`  `cax.set_label('SST (K)')`"
   ]
  },
  {
   "cell_type": "code",
   "execution_count": 3,
   "metadata": {
    "scrolled": true
   },
   "outputs": [
    {
     "ename": "NameError",
     "evalue": "name 'ds_sst' is not defined",
     "output_type": "error",
     "traceback": [
      "\u001b[1;31m---------------------------------------------------------------------------\u001b[0m",
      "\u001b[1;31mNameError\u001b[0m                                 Traceback (most recent call last)",
      "\u001b[1;32m<ipython-input-3-db2b768ee6d8>\u001b[0m in \u001b[0;36m<module>\u001b[1;34m\u001b[0m\n\u001b[0;32m      2\u001b[0m \u001b[0max\u001b[0m \u001b[1;33m=\u001b[0m \u001b[0mplt\u001b[0m\u001b[1;33m.\u001b[0m\u001b[0maxes\u001b[0m\u001b[1;33m(\u001b[0m\u001b[0mprojection\u001b[0m\u001b[1;33m=\u001b[0m\u001b[0mccrs\u001b[0m\u001b[1;33m.\u001b[0m\u001b[0mSouthPolarStereo\u001b[0m\u001b[1;33m(\u001b[0m\u001b[1;33m)\u001b[0m\u001b[1;33m)\u001b[0m\u001b[1;33m\u001b[0m\u001b[1;33m\u001b[0m\u001b[0m\n\u001b[0;32m      3\u001b[0m \u001b[1;33m\u001b[0m\u001b[0m\n\u001b[1;32m----> 4\u001b[1;33m (ds_sst.analysed_sst-273.15).plot(ax=ax, \n\u001b[0m\u001b[0;32m      5\u001b[0m                                   \u001b[0mtransform\u001b[0m\u001b[1;33m=\u001b[0m\u001b[0mccrs\u001b[0m\u001b[1;33m.\u001b[0m\u001b[0mPlateCarree\u001b[0m\u001b[1;33m(\u001b[0m\u001b[1;33m)\u001b[0m\u001b[1;33m,\u001b[0m\u001b[1;33m\u001b[0m\u001b[1;33m\u001b[0m\u001b[0m\n\u001b[0;32m      6\u001b[0m                                   \u001b[0mvmin\u001b[0m\u001b[1;33m=\u001b[0m\u001b[1;36m0\u001b[0m\u001b[1;33m,\u001b[0m\u001b[1;33m\u001b[0m\u001b[1;33m\u001b[0m\u001b[0m\n",
      "\u001b[1;31mNameError\u001b[0m: name 'ds_sst' is not defined"
     ]
    },
    {
     "data": {
      "image/png": "[encoded data removed]",
      "text/plain": [
       "<Figure size 432x288 with 1 Axes>"
      ]
     },
     "metadata": {
      "needs_background": "light"
     },
     "output_type": "display_data"
    }
   ],
   "source": [
    "#for polar data, plot temperature\n",
    "ax = plt.axes(projection=ccrs.SouthPolarStereo())\n",
    "\n",
    "(ds_sst.analysed_sst-273.15).plot(ax=ax, \n",
    "                                  transform=ccrs.PlateCarree(),\n",
    "                                  vmin=0,\n",
    "                                  vmax=12)\n",
    "\n",
    "cs1 = ax.scatter(ds_usv.lon, ds_usv.lat, \n",
    "                 transform=ccrs.PlateCarree(),\n",
    "                 s=10.0, \n",
    "                 c=ds_usv.TEMP_CTD_MEAN, \n",
    "                 edgecolor='none', \n",
    "                 cmap='jet',\n",
    "                 vmin=0,vmax=12)\n",
    "\n",
    "ax.set_extent([-180, 180, -90, -45], crs=ccrs.PlateCarree())\n"
   ]
  },
  {
   "cell_type": "markdown",
   "metadata": {},
   "source": [
    "# Exercise!"
   ]
  },
  {
   "cell_type": "code",
   "execution_count": null,
   "metadata": {},
   "outputs": [],
   "source": [
    "#now you try to plot plot salinity  ds_usv.SAL_MEAN\n",
    "\n"
   ]
  },
  {
   "cell_type": "markdown",
   "metadata": {},
   "source": [
    "# Let's plot some data off of California\n",
    "* `.rename({'longitude':'lon','latitude':'lat'})`"
   ]
  },
  {
   "cell_type": "code",
   "execution_count": null,
   "metadata": {},
   "outputs": [],
   "source": [
    "#use the first URL if you are offline\n",
    "#url = './data/saildrone-gen_4-baja_2018-sd1002-20180411T180000-20180611T055959-1_minutes-v1.nc'\n",
    "\n",
    "url = 'https://podaac-opendap.jpl.nasa.gov/opendap/hyrax/allData/insitu/L2/saildrone/Baja/saildrone-gen_4-baja_2018-sd1002-20180411T180000-20180611T055959-1_minutes-v1.nc'\n",
    "\n",
    "ds_usv = \n"
   ]
  },
  {
   "cell_type": "markdown",
   "metadata": {},
   "source": [
    "# Exercise!\n",
    "* for NON polar ds_usv data, use `ccrs.PlateCarree()` as your projection"
   ]
  },
  {
   "cell_type": "code",
   "execution_count": null,
   "metadata": {},
   "outputs": [],
   "source": [
    "#for polar data, plot temperature\n",
    "\n",
    "\n"
   ]
  },
  {
   "cell_type": "code",
   "execution_count": null,
   "metadata": {},
   "outputs": [],
   "source": [
    "# now add an extent to your figure\n",
    "lonmin,lonmax = ds_usv.lon.min().data-2,ds_usv.lon.max().data+2\n",
    "latmin,latmax = ds_usv.lat.min().data-2,ds_usv.lat.max().data+2\n",
    "ax.set_extent([lonmin,lonmax,latmin,latmax], crs=ccrs.PlateCarree())\n"
   ]
  },
  {
   "cell_type": "code",
   "execution_count": null,
   "metadata": {},
   "outputs": [],
   "source": []
  }
 ],
 "metadata": {
  "kernelspec": {
   "display_name": "Python 3",
   "language": "python",
   "name": "python3"
  },
  "language_info": {
   "codemirror_mode": {
    "name": "ipython",
    "version": 3
   },
   "file_extension": ".py",
   "mimetype": "text/x-python",
   "name": "python",
   "nbconvert_exporter": "python",
   "pygments_lexer": "ipython3",
   "version": "3.7.3"
  }
 },
 "nbformat": 4,
 "nbformat_minor": 1
}
