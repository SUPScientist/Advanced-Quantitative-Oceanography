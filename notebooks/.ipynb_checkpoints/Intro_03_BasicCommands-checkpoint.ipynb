{
 "cells": [
  {
   "cell_type": "markdown",
   "metadata": {
    "slideshow": {
     "slide_type": "slide"
    }
   },
   "source": [
    "# Basic `Python`\n",
    "We are going to learn the most basic commands of Python. The objective is not to teach you how to program to become an expert, but to learn the syntaxis of the language & recongnize it through the next notebooks\n"
   ]
  },
  {
   "cell_type": "markdown",
   "metadata": {
    "slideshow": {
     "slide_type": "slide"
    }
   },
   "source": [
    "## Basic operations \n",
    "### +, -, \\*, /, **\n",
    "<div class=\"alert alert-block alert-info\">\n",
    "    - Define two integer variables & print the result of basic operations\n",
    "</div>"
   ]
  },
  {
   "cell_type": "code",
   "execution_count": null,
   "metadata": {
    "scrolled": true,
    "slideshow": {
     "slide_type": "fragment"
    }
   },
   "outputs": [],
   "source": []
  },
  {
   "cell_type": "markdown",
   "metadata": {},
   "source": [
    "### Operations over the same variables can be simplified by adding the operand before the `=`, like this:\n",
    "x += 1"
   ]
  },
  {
   "cell_type": "markdown",
   "metadata": {},
   "source": [
    "<div class=\"alert alert-block alert-info\">\n",
    "    - Execute the code in the cell below & print <b>x</b> & <b>y</b> final values\n",
    "</div>"
   ]
  },
  {
   "cell_type": "code",
   "execution_count": null,
   "metadata": {},
   "outputs": [],
   "source": [
    "x, y = 3, 4\n",
    "print(x,y)\n",
    "x += 1\n",
    "y /= 2"
   ]
  },
  {
   "cell_type": "markdown",
   "metadata": {
    "slideshow": {
     "slide_type": "slide"
    }
   },
   "source": [
    "*** \n",
    "## `for` loops\n",
    "Can iterate on any list. \n",
    "<br>\n",
    "#### Note the indentation in the line after the `for` command.  This position indicates which lines belong to the `for` loop.\n",
    "The print statement is no longer being looped on because it has no indent.\n",
    "<div class=\"alert alert-block alert-info\">\n",
    "    Execute the code below \n",
    "</div>"
   ]
  },
  {
   "cell_type": "code",
   "execution_count": null,
   "metadata": {
    "slideshow": {
     "slide_type": "fragment"
    }
   },
   "outputs": [],
   "source": [
    "somelist = [10,15,25, '10ppm','5m/s']\n",
    "for item in somelist:\n",
    "    print(item)\n",
    "print(somelist)"
   ]
  },
  {
   "cell_type": "markdown",
   "metadata": {
    "slideshow": {
     "slide_type": "fragment"
    }
   },
   "source": [
    "###  A list can also be just of numbers, and we can build a list using the function `range`:\n",
    "#### range(start, end, step)  \n",
    "<br><i>Note: the end is non-inclusive</i>\n",
    "\n",
    "<div class=\"alert alert-block alert-info\">\n",
    "    - Execute the code below\n",
    "    <br>\n",
    "    - Replace <b>somelist</b> in the <b>for</b> loop with: <b>range(0,41,5)</b>, and execute the code again\n",
    "    <br>\n",
    "    - Change the start, end or step and execute the code again\n",
    "</div"
   ]
  },
  {
   "cell_type": "code",
   "execution_count": null,
   "metadata": {
    "slideshow": {
     "slide_type": "fragment"
    }
   },
   "outputs": [],
   "source": [
    "somelist = [0, 5, 10, 15, 20, 25, 30, 35, 40]\n",
    "for item in somelist:\n",
    "    print(item)"
   ]
  },
  {
   "cell_type": "markdown",
   "metadata": {
    "slideshow": {
     "slide_type": "fragment"
    }
   },
   "source": [
    "<div class=\"alert alert-block alert-info\">\n",
    "    - Try <b>range(10)</b> instead"
   ]
  },
  {
   "cell_type": "code",
   "execution_count": null,
   "metadata": {},
   "outputs": [],
   "source": [
    "somelist = [0, 5, 10, 15, 20, 25, 30, 35, 40]\n",
    "for item in range(10):\n",
    "    print(item)"
   ]
  },
  {
   "cell_type": "markdown",
   "metadata": {
    "slideshow": {
     "slide_type": "slide"
    }
   },
   "source": [
    "## Sometimes we want the index and the value of each element on a list\n",
    "### The command `enumerate` gives you both\n",
    "<div class=\"alert alert-block alert-info\">\n",
    "    - Execute the code below\n",
    "    <br>\n",
    "    - Then try with <b>range(10)</b> instead\n",
    "</div>\n",
    "<br>Note the use of <b>{ }</b> and <b>.format</b> to print <b>inx</b> and <b>item</b>"
   ]
  },
  {
   "cell_type": "code",
   "execution_count": null,
   "metadata": {
    "slideshow": {
     "slide_type": "fragment"
    }
   },
   "outputs": [],
   "source": [
    "for inx,item in enumerate(range(0,41,5)):\n",
    "    print('index {}, value = {}'.format(inx,item))"
   ]
  },
  {
   "cell_type": "markdown",
   "metadata": {
    "slideshow": {
     "slide_type": "slide"
    }
   },
   "source": [
    "***\n",
    "# conditionals: `if`, `elif`, `else` \n",
    "### Conditional operators can be used to compare different types of variables or to test logical statements. \n",
    "\n",
    "- The basic operator to compare numerical values are: ==, !=, <, >, >=, <=\n",
    "- The logical operators are: and, or, not\n",
    "- and the use of conditional operators are exemplified in the next cell\n",
    "\n",
    "####    Note the indentation again\n",
    "<div class=\"alert alert-block alert-info\">\n",
    "- Execute the next cell\n",
    "<br>\n",
    "- Test different comparison operators and logical operators and execute\n",
    "    </div>"
   ]
  },
  {
   "cell_type": "code",
   "execution_count": null,
   "metadata": {},
   "outputs": [],
   "source": [
    "lat = 12\n",
    "if (lat <= -23.5) or (lat >= 23.5):\n",
    "    print('extra-tropical')\n",
    "elif lat == 0:\n",
    "    print('equator')\n",
    "else:\n",
    "    print('tropical')"
   ]
  }
 ],
 "metadata": {
  "kernelspec": {
   "display_name": "Python 3",
   "language": "python",
   "name": "python3"
  },
  "language_info": {
   "codemirror_mode": {
    "name": "ipython",
    "version": 3
   },
   "file_extension": ".py",
   "mimetype": "text/x-python",
   "name": "python",
   "nbconvert_exporter": "python",
   "pygments_lexer": "ipython3",
   "version": "3.7.1"
  }
 },
 "nbformat": 4,
 "nbformat_minor": 2
}
