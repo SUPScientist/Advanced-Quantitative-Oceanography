{
 "cells": [
  {
   "cell_type": "markdown",
   "metadata": {},
   "source": [
    "# SST in Hurricane Irene\n",
    "  \n",
    "Authors\n",
    "* [Dr Chelle Gentemann](mailto:gentemann@esr.org)    - Earth and Space Research, USA\n",
    "* [Dr Marisol Garcia-Reyes](mailto:marisolgr@faralloninstitute.org)  - Farallon Institute, USA \n",
    "* PODAACPY file search added by [Lewis John McGibbney](mailto:lewis.j.mcgibbney@jpl.nasa.gov)  -JPL, NASA, USA\n",
    "  "
   ]
  },
  {
   "cell_type": "markdown",
   "metadata": {},
   "source": [
    "-------------------\n",
    "\n",
    "## Import python packages\n",
    "\n",
    "* You are going to want numpy, pandas, matplotlib.pyplot, podaaacpy, and xarray\n",
    "* This cell also imports a parser so that a login file can be read to use podaacpy"
   ]
  },
  {
   "cell_type": "code",
   "execution_count": null,
   "metadata": {},
   "outputs": [],
   "source": [
    "import warnings\n",
    "warnings.simplefilter('ignore') # filter some warning messages\n",
    "\n",
    "import numpy as np\n",
    "import pandas as pd\n",
    "import matplotlib.pyplot as plt\n",
    "import xarray as xr\n",
    "import cartopy.crs as ccrs\n",
    "\n",
    "#This is for reading in and parsing the login file credentials\n",
    "from pathlib import Path\n",
    "import configparser\n",
    "from lxml import objectify\n",
    "\n",
    "#The podaacpy api\n",
    "import podaac.podaac as podaac\n",
    "from podaac import drive as podaacdrive\n",
    "import podaac.podaac_utils as putil\n",
    "# then create an instance of the Podaac class\n",
    "p = podaac.Podaac()\n",
    "\n",
    "#read in the login credentials and pass them to podaac drive\n",
    "with open('./podaac.ini', 'r') as f:\n",
    "    config = configparser.ConfigParser()\n",
    "    config.read_file(f)\n",
    "    d = podaacdrive.Drive(None, \n",
    "                          config['drive']['urs_username'], \n",
    "                          config['drive']['urs_password'])"
   ]
  },
  {
   "cell_type": "markdown",
   "metadata": {},
   "source": [
    "## Analysis of SSTs during Hurricane Irene\n",
    "\n",
    "Irene was a massive storm, with tropical storm force winds extending outward 300 miles (485 km). The storm was also slow moving as it traversed the Mid-Atlantic. Irene claimed at least 48 lives and caused over 7 billion U.S. dollars in damages in the U.S. and 3.1 billion U.S. dollars of damage in the Caribbean. (source: https://www.ncdc.noaa.gov/sotc/tropical-cyclones/201113).\n",
    "\n",
    "For this tutorial we will use the podaacpy to search for SST2 during Hurricane Irene and look at the change in upper ocean heat content\n",
    "\n",
    "For plotting the data, try using cartopy\n",
    "`ax = plt.axes(projection=ccrs.Orthographic(-70, 30))`\n",
    "you will need to add  `transform=ccrs.PlateCarree()` to you plotting routine\n",
    "`ax.set_extent([-82, -50, 10, 60], crs=ccrs.PlateCarree())`\n",
    "`ax.coastlines('50m')`\n",
    "`ax.background_img('ne_shaded')`\n"
   ]
  },
  {
   "cell_type": "code",
   "execution_count": null,
   "metadata": {},
   "outputs": [],
   "source": [
    "url = 'http://mrtee.europa.renci.org:8080/thredds/dodsC/DataLayers/IBTrACS.NA.v04r00.nc?name[0:1:2211],time[0:1:2211][0:1:359],lat[0:1:2211][0:1:359],lon[0:1:2211][0:1:359]'\n",
    "\n",
    "ds_storm=xr.open_dataset(url)\n",
    "\n",
    "irene = ds_storm.isel(storm=2092)\n",
    "\n",
    "plt.scatter(irene.lon[0:78],irene.lat[0:78],c=irene.time.dt.dayofyear[0:78])\n",
    "\n",
    "print('storm start and end:', irene.time[0].data,irene.time[77].data)"
   ]
  },
  {
   "cell_type": "code",
   "execution_count": null,
   "metadata": {},
   "outputs": [],
   "source": [
    "start_time = '2011-08-20T00:00:00Z'\n",
    "end_time = '2011-09-01T23:59:59Z'\n",
    "\n",
    "minlat,maxlat = 15,45\n",
    "minlon,maxlon = -100,-40\n",
    "\n",
    "#dataset_id = 'PODAAC-GHCMC-4FM03'  #CMC SST looked up on podaac website, on dataset page this is the persistant id\n",
    "#dataset_id = 'PODAAC-GHGMR-4FJ04'  #MUR SST\n",
    "#dataset_id = 'PODAAC-GHGDM-4FD02'  #DMI SST\n",
    "\n",
    "dataset_id = 'PODAAC-GHCMC-4FM02'  #DMI SST\n",
    "gresult = p.granule_search(dataset_id=dataset_id,\n",
    "                           start_time=start_time,\n",
    "                           end_time=end_time,\n",
    "                           items_per_page='100')\n",
    "urls = putil.PodaacUtils.mine_opendap_urls_from_granule_search(gresult)\n",
    "urls_sst = [w[:-5] for w in urls]  #remove html from urlsurls_sst = [w.replace('-tools.jpl.nasa.gov/drive/files/', '-opendap.jpl.nasa.gov/opendap/') for w in urls_sst]\n",
    "print('num files:',len(urls_sst))\n",
    "\n",
    "dataset_id = 'PODAAC-GHOST-4FK01' #ostia sst\n",
    "gresult = p.granule_search(dataset_id=dataset_id,\n",
    "                           start_time=start_time,\n",
    "                           end_time=end_time,\n",
    "                           items_per_page='100')\n",
    "urls = putil.PodaacUtils.mine_opendap_urls_from_granule_search(gresult)\n",
    "urls_ostia = [w[:-5] for w in urls]  #remove html from urlsurls_sst = [w.replace('-tools.jpl.nasa.gov/drive/files/', '-opendap.jpl.nasa.gov/opendap/') for w in urls_sst]\n",
    "print('num files:',len(urls_ostia))\n"
   ]
  },
  {
   "cell_type": "code",
   "execution_count": null,
   "metadata": {},
   "outputs": [],
   "source": [
    "ds_sst = xr.open_dataset(urls_sst[0])\n",
    "\n",
    "subset_sst = ds_sst.sel(lat=slice(minlat,maxlat)\n",
    "                        ,lon=slice(minlon,maxlon))\n",
    "\n",
    "print('opening:', urls_sst[0],subset_sst)\n",
    "#subset_sst.analysed_sst.plot()"
   ]
  },
  {
   "cell_type": "code",
   "execution_count": null,
   "metadata": {},
   "outputs": [],
   "source": [
    "fig, axes = plt.subplots(ncols=2,figsize=[12,4])\n",
    "\n",
    "subset_sst.analysed_sst[0,:,:].plot(ax=axes[0])\n",
    "axes[0].scatter(irene.lon[0:78],irene.lat[0:78],c=irene.time.dt.dayofyear[0:78],cmap='seismic')\n",
    "\n",
    "subset_sst.mask[0,:,:].plot(ax=axes[1])\n",
    "axes[0].scatter(irene.lon[0:78],irene.lat[0:78],c=irene.time.dt.dayofyear[0:78],cmap='seismic')\n"
   ]
  },
  {
   "cell_type": "markdown",
   "metadata": {},
   "source": [
    "## Mask out land values using .where"
   ]
  },
  {
   "cell_type": "code",
   "execution_count": null,
   "metadata": {},
   "outputs": [],
   "source": [
    "subset_sst_masked = subset_sst.where(subset_sst.mask==1)\n",
    "\n",
    "subset_sst_masked.analysed_sst[0,:,:].plot()\n"
   ]
  },
  {
   "cell_type": "markdown",
   "metadata": {},
   "source": [
    "## Compare time series of the cold wake after Hurricane as measured by MUR and OSTIA SSTs"
   ]
  },
  {
   "cell_type": "markdown",
   "metadata": {},
   "source": [
    "## When you open a multi-file dataset, xarray uses dask for lasy loading.  \n",
    "* Lazy loading: It mostly just loads the metadata. You can do data searching, selecting, subsetting without acutally loading the data. \n",
    "* Here we have loaded in 30 days of data for two very high resolution SST global datasets.  Before we actually load the data, we are going to want to do some subsetting so that it will fit into our memory.\n",
    "* Notice below when you print out the dataset details that they are all stored as dask.array types."
   ]
  },
  {
   "cell_type": "code",
   "execution_count": null,
   "metadata": {},
   "outputs": [],
   "source": [
    "ds_sst = xr.open_mfdataset(urls_sst,coords='minimal')\n",
    "\n",
    "ds_sst_ostia = xr.open_mfdataset(urls_ostia,coords='minimal')\n",
    "\n",
    "ds_sst_ostia['time'] = ds_sst_ostia.indexes['time'].to_datetimeindex()\n",
    "\n",
    "ds_sst = ds_sst.where(ds_sst.mask==1)\n"
   ]
  },
  {
   "cell_type": "code",
   "execution_count": null,
   "metadata": {},
   "outputs": [],
   "source": [
    "#subset data\n",
    "subset_sst = ds_sst.sel(lat=slice(minlat,maxlat),\n",
    "                        lon=slice(minlon,maxlon))\n",
    "\n",
    "subset_sst_ostia = ds_sst_ostia.sel(lat=slice(minlat,maxlat),\n",
    "                                lon=slice(minlon,maxlon))"
   ]
  },
  {
   "cell_type": "markdown",
   "metadata": {},
   "source": [
    "# Check the size of the data "
   ]
  },
  {
   "cell_type": "code",
   "execution_count": null,
   "metadata": {},
   "outputs": [],
   "source": [
    "print('GB of data:', subset_sst.nbytes/1e9, subset_sst_ostia.nbytes/1e9)"
   ]
  },
  {
   "cell_type": "code",
   "execution_count": null,
   "metadata": {},
   "outputs": [],
   "source": [
    "#load the data\n",
    "subset_sst.load()\n",
    "subset_sst_ostia.load()"
   ]
  },
  {
   "cell_type": "code",
   "execution_count": null,
   "metadata": {},
   "outputs": [],
   "source": [
    "\n",
    "#first interpolate onto same time sampling\n",
    "subset_sst_interp_time = subset_sst.interp(time=subset_sst_ostia.time,\n",
    "                                      method='linear')\n",
    "\n",
    "#now interpolate onto same spatial grid\n",
    "subset_sst_interp = subset_sst_interp_time.interp(lat=subset_sst_ostia.lat,\n",
    "                                      lon=subset_sstlo.lon,\n",
    "                                      method='nearest')\n",
    "\n",
    "#now mask the data\n",
    "subset_sstlo_masked = subset_sstlo.where(subset_sst_interp.mask==1)\n",
    "\n"
   ]
  },
  {
   "cell_type": "code",
   "execution_count": null,
   "metadata": {},
   "outputs": [],
   "source": [
    "fig, axes = plt.subplots(ncols=2,figsize=[12,4])\n",
    "\n",
    "dif = (subset_sst.analysed_sst[-1,:,:]-subset_sst.analysed_sst[0,:,:])\n",
    "\n",
    "dif.plot(vmin=-1,vmax=1,ax=axes[0])\n",
    "\n",
    "dif2 = (subset_sst_ostia_masked.analysed_sst[-1,:,:]-subset_sst_ostia_masked.analysed_sst[0,:,:])\n",
    "\n",
    "dif2.plot(vmin=-1,vmax=1,ax=axes[1])\n",
    "\n"
   ]
  },
  {
   "cell_type": "markdown",
   "metadata": {},
   "source": [
    "#  Looking at getting Chl-a into this notebook"
   ]
  },
  {
   "cell_type": "code",
   "execution_count": null,
   "metadata": {},
   "outputs": [],
   "source": [
    "ds_chl = xr.open_dataset('https://coastwatch.pfeg.noaa.gov/erddap/griddap/pmlEsaCCI31OceanColorDaily')\\\n",
    "                        .rename({'latitude':'lat','longitude':'lon'}) \n",
    "\n",
    "ds_chl_subset = ds_chl.sel(time=slice('2011-08-15','2011-10-15'),\n",
    "                           lat=slice(45,15),\n",
    "                           lon=slice(-100,-40))\n",
    "\n",
    "chl = ds_chl_subset.chlor_a\n",
    "\n",
    "ts = chl.resample(time='5D').mean('time')"
   ]
  },
  {
   "cell_type": "code",
   "execution_count": null,
   "metadata": {},
   "outputs": [],
   "source": [
    "fig, axes = plt.subplots(ncols=2,figsize=[12,4])\n",
    "ts[0,:,:].plot(vmin=0,vmax=.5,ax=axes[0])\n",
    "axes[0].scatter(irene.lon[0:78],irene.lat[0:78],c=irene.time.dt.dayofyear[0:78],cmap='seismic')\n",
    "(ts[6,:,:]-ts[0,:,:]).plot(vmin=-0.2,vmax=.2,ax=axes[1])\n",
    "axes[1].scatter(irene.lon[0:78],irene.lat[0:78],c=irene.time.dt.dayofyear[0:78],cmap='seismic')\n"
   ]
  },
  {
   "cell_type": "code",
   "execution_count": null,
   "metadata": {
    "scrolled": false
   },
   "outputs": [],
   "source": []
  },
  {
   "cell_type": "code",
   "execution_count": null,
   "metadata": {},
   "outputs": [],
   "source": []
  },
  {
   "cell_type": "code",
   "execution_count": null,
   "metadata": {},
   "outputs": [],
   "source": [
    "#https://coastwatch.pfeg.noaa.gov/erddap/griddap/jplMURSST41anom1day.htmlTable?sstAnom[(2019-09-01T09:00:00Z):1:(2019-09-01T09:00:00Z)][(-89.99):1:(89.99)][(-179.99):1:(180.0)],mask[(2019-09-01T09:00:00Z):1:(2019-09-01T09:00:00Z)][(-89.99):1:(89.99)][(-179.99):1:(180.0)]"
   ]
  },
  {
   "cell_type": "code",
   "execution_count": null,
   "metadata": {},
   "outputs": [],
   "source": []
  },
  {
   "cell_type": "code",
   "execution_count": null,
   "metadata": {},
   "outputs": [],
   "source": []
  },
  {
   "cell_type": "code",
   "execution_count": null,
   "metadata": {},
   "outputs": [],
   "source": [
    "tem = ds_sst.interp(lon=irene.lon[0:78],lat=irene.lat[0:78]).drop({'analysis_error','sea_ice_fraction','mask'})\n",
    "tem_offset = ds_sst.interp(lon=irene.lon[0:78]+2,lat=irene.lat[0:78]).drop({'analysis_error','sea_ice_fraction','mask'})"
   ]
  },
  {
   "cell_type": "code",
   "execution_count": null,
   "metadata": {},
   "outputs": [],
   "source": [
    "tem.load()\n",
    "tem_offset.load()"
   ]
  },
  {
   "cell_type": "code",
   "execution_count": null,
   "metadata": {},
   "outputs": [],
   "source": []
  }
 ],
 "metadata": {
  "anaconda-cloud": {},
  "celltoolbar": "Raw Cell Format",
  "kernelspec": {
   "display_name": "Python 3",
   "language": "python",
   "name": "python3"
  },
  "language_info": {
   "codemirror_mode": {
    "name": "ipython",
    "version": 3
   },
   "file_extension": ".py",
   "mimetype": "text/x-python",
   "name": "python",
   "nbconvert_exporter": "python",
   "pygments_lexer": "ipython3",
   "version": "3.7.3"
  }
 },
 "nbformat": 4,
 "nbformat_minor": 1
}
