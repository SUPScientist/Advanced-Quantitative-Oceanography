{
 "cells": [
  {
   "cell_type": "markdown",
   "metadata": {},
   "source": [
    "# SST in Hurricane Irene\n",
    "  \n",
    "Authors\n",
    "* [Dr Chelle Gentemann](mailto:gentemann@esr.org)    - Earth and Space Research, USA\n",
    "* [Dr Marisol Garcia-Reyes](mailto:marisolgr@faralloninstitute.org)  - Farallon Institute, USA \n",
    "* PODAACPY file search added by [Lewis John McGibbney](mailto:lewis.j.mcgibbney@jpl.nasa.gov)  -JPL, NASA, USA\n",
    "  "
   ]
  },
  {
   "cell_type": "markdown",
   "metadata": {},
   "source": [
    "-------------------\n",
    "\n",
    "## Import python packages\n",
    "\n",
    "* You are going to want numpy, pandas, matplotlib.pyplot, podaaacpy, and xarray\n",
    "* This cell also imports a parser so that a login file can be read to use podaacpy"
   ]
  },
  {
   "cell_type": "code",
   "execution_count": null,
   "metadata": {},
   "outputs": [],
   "source": [
    "import warnings\n",
    "warnings.simplefilter('ignore') # filter some warning messages\n",
    "\n",
    "import numpy as np\n",
    "import pandas as pd\n",
    "import matplotlib.pyplot as plt\n",
    "import xarray as xr\n",
    "import cartopy.crs as ccrs\n",
    "\n",
    "#This is for reading in and parsing the login file credentials\n",
    "from pathlib import Path\n",
    "import configparser\n",
    "from lxml import objectify\n",
    "\n",
    "#The podaacpy api\n",
    "import podaac.podaac as podaac\n",
    "from podaac import drive as podaacdrive\n",
    "import podaac.podaac_utils as putil\n",
    "# then create an instance of the Podaac class\n",
    "p = podaac.Podaac()\n",
    "\n",
    "#read in the login credentials and pass them to podaac drive\n",
    "with open('./podaac.ini', 'r') as f:\n",
    "    config = configparser.ConfigParser()\n",
    "    config.read_file(f)\n",
    "    d = podaacdrive.Drive(None, \n",
    "                          config['drive']['urs_username'], \n",
    "                          config['drive']['urs_password'])"
   ]
  },
  {
   "cell_type": "markdown",
   "metadata": {},
   "source": [
    "## Analysis of SSTs during Hurricane Irene\n",
    "\n",
    "Irene was a massive storm, with tropical storm force winds extending outward 300 miles (485 km). The storm was also slow moving as it traversed the Mid-Atlantic. Irene claimed at least 48 lives and caused over 7 billion U.S. dollars in damages in the U.S. and 3.1 billion U.S. dollars of damage in the Caribbean. (source: https://www.ncdc.noaa.gov/sotc/tropical-cyclones/201113).\n",
    "\n",
    "For this tutorial we will use the podaacpy and a virtually aggregated dataset to search for SST2 Chl-a during Hurricane Irene and look at the change in upper ocean heat content and chlorophyll-a.  https://www.livescience.com/30759-how-a-hurricane-impacts-the-ocean.html\n",
    "\n"
   ]
  },
  {
   "cell_type": "markdown",
   "metadata": {},
   "source": [
    "# Read in Storm data from a thredds server"
   ]
  },
  {
   "cell_type": "code",
   "execution_count": null,
   "metadata": {},
   "outputs": [],
   "source": [
    "url = 'http://mrtee.europa.renci.org:8080/thredds/dodsC/DataLayers/IBTrACS.NA.v04r00.nc?name[0:1:2211],time[0:1:2211][0:1:359],lat[0:1:2211][0:1:359],lon[0:1:2211][0:1:359]'\n",
    "\n",
    "ds_storm=xr.open_dataset(url)\n",
    "\n",
    "irene = ds_storm.isel(storm=2092).isel(date_time=slice(0,78))\n",
    "\n",
    "plt.scatter(irene.lon,irene.lat,c=irene.time.dt.dayofyear)\n",
    "\n",
    "print('storm start and end:', irene.time[0].data,irene.time[-1].data)"
   ]
  },
  {
   "cell_type": "markdown",
   "metadata": {},
   "source": [
    "For plotting the data, try using cartopy<br>\n",
    "`ax = plt.axes(projection=ccrs.Orthographic(-70, 30))`<br>\n",
    "you will need to add  `transform=ccrs.PlateCarree()` to your plotting routine\n",
    "`ax.scatter(irene.lon,irene.lat,c=irene.time.dt.dayofyear,transform=ccrs.PlateCarree())`<br>\n",
    "\n",
    "`ax.set_extent([-82, -50, 10, 60], crs=ccrs.PlateCarree())`<br>\n",
    "`ax.coastlines('50m')`<br>\n",
    "`ax.stock_img()`\n"
   ]
  },
  {
   "cell_type": "code",
   "execution_count": null,
   "metadata": {},
   "outputs": [],
   "source": [
    "# try plotting here with land mask\n"
   ]
  },
  {
   "cell_type": "code",
   "execution_count": null,
   "metadata": {},
   "outputs": [],
   "source": [
    "start_time = '2011-08-20T00:00:00Z'\n",
    "end_time = '2011-09-05T23:59:59Z'\n",
    "start_time2 = '2011-08-15'\n",
    "end_time2 = '2011-09-25'\n",
    "\n",
    "minlat,maxlat = 15,45\n",
    "minlon,maxlon = -100,-40\n",
    "\n",
    "#dataset_id = 'PODAAC-GHCMC-4FM03'  #CMC SST looked up on podaac website, on dataset page this is the persistant id\n",
    "#dataset_id = 'PODAAC-GHCMC-4FM02'  #CMC SST looked up on podaac website, on dataset page this is the persistant id\n",
    "#dataset_id = 'PODAAC-GHGMR-4FJ04'  #MUR SST\n",
    "#dataset_id = 'PODAAC-GHGDM-4FD02'  #DMI SST\n",
    "#dataset_id = 'PODAAC-GHGPB-4FO02'  #ospo sst\n",
    "\n",
    "dataset_id = 'PODAAC-GHCMC-4FM02'  #CMC SST\n",
    "gresult = p.granule_search(dataset_id=dataset_id,\n",
    "                           start_time=start_time,\n",
    "                           end_time=end_time,\n",
    "                           items_per_page='100')\n",
    "urls = putil.PodaacUtils.mine_opendap_urls_from_granule_search(gresult)\n",
    "urls_sst = [w[:-5] for w in urls]  #remove html from urlsurls_sst = [w.replace('-tools.jpl.nasa.gov/drive/files/', '-opendap.jpl.nasa.gov/opendap/') for w in urls_sst]\n",
    "print('num files:',len(urls_sst))\n"
   ]
  },
  {
   "cell_type": "code",
   "execution_count": null,
   "metadata": {},
   "outputs": [],
   "source": [
    "ds_sst = xr.open_dataset(urls_sst[0])\n",
    "\n",
    "subset_sst = ds_sst.sel(lat=slice(minlat,maxlat)\n",
    "                        ,lon=slice(minlon,maxlon))\n",
    "\n",
    "print('opening:', urls_sst[0],subset_sst)\n",
    "#subset_sst.analysed_sst.plot()"
   ]
  },
  {
   "cell_type": "code",
   "execution_count": null,
   "metadata": {},
   "outputs": [],
   "source": [
    "fig, axes = plt.subplots(ncols=2,figsize=[12,4])\n",
    "\n",
    "subset_sst.analysed_sst[0,:,:].plot(ax=axes[0])\n",
    "axes[0].scatter(irene.lon[0:78],irene.lat[0:78],c=irene.time.dt.dayofyear[0:78],cmap='seismic')\n",
    "\n",
    "subset_sst.mask[0,:,:].plot(ax=axes[1])\n",
    "axes[0].scatter(irene.lon[0:78],irene.lat[0:78],c=irene.time.dt.dayofyear[0:78],cmap='seismic')\n"
   ]
  },
  {
   "cell_type": "markdown",
   "metadata": {},
   "source": [
    "## Mask out land values using .where\n",
    "\n",
    "`subset_sst_masked = subset_sst.where(subset_sst.mask==1)`\n",
    "\n",
    "`subset_sst_masked.analysed_sst[0,:,:].plot()`"
   ]
  },
  {
   "cell_type": "code",
   "execution_count": null,
   "metadata": {},
   "outputs": [],
   "source": [
    "# plot masked data here\n"
   ]
  },
  {
   "cell_type": "markdown",
   "metadata": {},
   "source": [
    "## Compare time series of the cold wake after Hurricane as measured by MUR and OSTIA SSTs"
   ]
  },
  {
   "cell_type": "markdown",
   "metadata": {},
   "source": [
    "## When you open a multi-file dataset, xarray uses dask for lasy loading.  \n",
    "* Lazy loading: It mostly just loads the metadata. You can do data searching, selecting, subsetting without acutally loading the data. \n",
    "* Here we have loaded in 14 days of data for a very high resolution SST global datasets.  Before we actually load the data, we are going to want to do some subsetting so that it will fit into our memory.\n",
    "* Notice below when you print out the dataset details that they are all stored as dask.array types."
   ]
  },
  {
   "cell_type": "code",
   "execution_count": null,
   "metadata": {},
   "outputs": [],
   "source": [
    "ds_sst = xr.open_mfdataset(urls_sst,coords='minimal')\n",
    "\n",
    "ds_sst = ds_sst.where(ds_sst.mask==1)\n",
    "\n",
    "#subset data\n",
    "subset_sst = ds_sst.sel(lat=slice(minlat,maxlat),\n",
    "                        lon=slice(minlon,maxlon))\n"
   ]
  },
  {
   "cell_type": "markdown",
   "metadata": {},
   "source": [
    "# Check the size of the data "
   ]
  },
  {
   "cell_type": "code",
   "execution_count": null,
   "metadata": {},
   "outputs": [],
   "source": [
    "print('GB of data:', subset_sst.nbytes/1e9)"
   ]
  },
  {
   "cell_type": "code",
   "execution_count": null,
   "metadata": {},
   "outputs": [],
   "source": [
    "#load the data\n",
    "subset_sst.load()\n"
   ]
  },
  {
   "cell_type": "markdown",
   "metadata": {},
   "source": [
    "# Load chlorophyll-a data from a virtually aggregated dataset at COASTWATCH\n"
   ]
  },
  {
   "cell_type": "code",
   "execution_count": null,
   "metadata": {},
   "outputs": [],
   "source": [
    "url = 'https://coastwatch.pfeg.noaa.gov/erddap/griddap/pmlEsaCCI31OceanColorDaily'\n",
    "\n",
    "ds_chl = xr.open_dataset(url).rename({'latitude':'lat','longitude':'lon'}) \n",
    "\n",
    "ds_chl_subset = ds_chl.sel(time=slice(start_time2,end_time2),\n",
    "                           lat=slice(45,15),\n",
    "                           lon=slice(-100,-40))\n",
    "                        \n",
    "\n",
    "chl = ds_chl_subset.chlor_a.sortby('lat')\n",
    "\n"
   ]
  },
  {
   "cell_type": "markdown",
   "metadata": {},
   "source": [
    "* Create a 5-day resampled dataset since the chl-a data is missing when clouds are present"
   ]
  },
  {
   "cell_type": "code",
   "execution_count": null,
   "metadata": {},
   "outputs": [],
   "source": [
    "chl_5dy = chl.resample(time='5D').mean('time')"
   ]
  },
  {
   "cell_type": "markdown",
   "metadata": {},
   "source": [
    "* Interpolate onto daily maps"
   ]
  },
  {
   "cell_type": "code",
   "execution_count": null,
   "metadata": {},
   "outputs": [],
   "source": [
    "chl_1dy = chl_5dy.resample(time='1D').interpolate('linear')"
   ]
  },
  {
   "cell_type": "markdown",
   "metadata": {},
   "source": [
    "# Look at the Chlorophyll-a data\n",
    "\n",
    "* Create a subplot\n",
    "* plot a 5-day average of the data\n",
    "* plot IRENE's track on the image\n",
    "* plot the difference poststorm - prestorm Chl-a\n",
    "* add a grid to the data for georeference"
   ]
  },
  {
   "cell_type": "code",
   "execution_count": null,
   "metadata": {},
   "outputs": [],
   "source": [
    "fig, axes = plt.subplots(ncols=2,figsize=[12,4])\n",
    "\n",
    "chl_5dy[0,:,:].plot(vmin=0,vmax=.5,ax=axes[0])\n",
    "\n",
    "axes[0].scatter(irene.lon,irene.lat,\n",
    "                c=irene.time.dt.dayofyear,\n",
    "                cmap='seismic')\n",
    "\n",
    "(chl_5dy[4,:,:]-chl_5dy[0,:,:]).plot(vmin=-0.2,vmax=.2,ax=axes[1],cmap='seismic')\n",
    "\n",
    "axes[1].scatter(irene.lon,irene.lat,\n",
    "                c=irene.time.dt.dayofyear,\n",
    "                cmap='jet')\n",
    "\n",
    "axes[1].grid()"
   ]
  },
  {
   "cell_type": "markdown",
   "metadata": {},
   "source": [
    "## Plot a timeseries of Chl-a at -80,32 near the coast\n",
    "* The Chl-a changes from 0.4 to 1.0 \n",
    "* It takes almost a month before the Chl-a returns to normal"
   ]
  },
  {
   "cell_type": "code",
   "execution_count": null,
   "metadata": {},
   "outputs": [],
   "source": [
    "chl_ts = chl_1dy.sel(lat=32.0,method='nearest').sel(lon=-80.0,method='nearest')\n",
    "chl_ts.plot()"
   ]
  },
  {
   "cell_type": "markdown",
   "metadata": {},
   "source": [
    "## Regridding to look at both SST and Chl-a\n",
    "\n",
    "* First interpolate in time\n",
    "* Next interpolate in space\n",
    "* use the SST mask to mask the Chl-a data"
   ]
  },
  {
   "cell_type": "code",
   "execution_count": null,
   "metadata": {},
   "outputs": [],
   "source": [
    "\n",
    "#first interpolate onto same time sampling\n",
    "subset_chl_interp_time = chl_1dy.interp(time=subset_sst.time,\n",
    "                                      method='linear')\n",
    "\n",
    "#now interpolate onto same spatial grid\n",
    "subset_chl_interp = subset_chl_interp_time.interp(lat=subset_sst.lat,\n",
    "                                      lon=subset_sst.lon,\n",
    "                                      method='nearest')\n",
    "\n",
    "#now mask the data\n",
    "subset_chl_masked = subset_chl_interp.where(subset_sst.mask==1)\n",
    "\n"
   ]
  },
  {
   "cell_type": "markdown",
   "metadata": {},
   "source": [
    "## Plot both the change in SST and the change in Chl-a\n",
    "* There is a large region with substantial cooling, a 'cold-wake'\n",
    "* The Chl-a increase is only near the coast"
   ]
  },
  {
   "cell_type": "code",
   "execution_count": null,
   "metadata": {},
   "outputs": [],
   "source": [
    "fig, axes = plt.subplots(ncols=2,figsize=[12,4])\n",
    "\n",
    "dif = (subset_sst.analysed_sst[10,:,:]-subset_sst.analysed_sst[0,:,:])\n",
    "\n",
    "dif.plot(vmin=-1,vmax=1,ax=axes[0],cmap='seismic')\n",
    "\n",
    "dif2 = (subset_chl_masked[10,:,:]-subset_chl_masked[0,:,:])\n",
    "\n",
    "dif2.plot(vmin=-1,vmax=1,ax=axes[1],cmap='seismic')\n",
    "\n"
   ]
  },
  {
   "cell_type": "markdown",
   "metadata": {},
   "source": [
    "## Make the figure easier to interpret by adding land"
   ]
  },
  {
   "cell_type": "code",
   "execution_count": null,
   "metadata": {},
   "outputs": [],
   "source": [
    "\n",
    "f = plt.figure(figsize=(12,4))\n",
    "\n",
    "dif = (subset_sst.analysed_sst[10,:,:]-subset_sst.analysed_sst[0,:,:])\n",
    "\n",
    "ax1 = plt.subplot(121, projection=ccrs.Orthographic(-70, 30))\n",
    "\n",
    "dif.plot(vmin=-1,vmax=1,ax=ax1,cmap='seismic',transform=ccrs.PlateCarree())\n",
    "ax1.set_extent([-82, -50, 15, 45], crs=ccrs.PlateCarree())\n",
    "ax1.coastlines('50m')\n",
    "ax1.stock_img()\n",
    "\n",
    "\n",
    "dif2 = (subset_chl_masked[11,:,:]-subset_chl_masked[0,:,:])\n",
    "\n",
    "ax2 = plt.subplot(122, projection=ccrs.Orthographic(-70, 30))\n",
    "\n",
    "(dif*0).plot(vmin=-1,vmax=1,ax=ax2,cmap='seismic',transform=ccrs.PlateCarree(),add_colorbar=False)\n",
    "dif2.plot(vmin=-1,vmax=1,ax=ax2,cmap='seismic',transform=ccrs.PlateCarree())\n",
    "ax2.set_extent([-82, -50, 15, 45], crs=ccrs.PlateCarree())\n",
    "ax2.coastlines('50m')\n",
    "ax2.stock_img()\n",
    "\n"
   ]
  },
  {
   "cell_type": "code",
   "execution_count": null,
   "metadata": {},
   "outputs": [],
   "source": []
  }
 ],
 "metadata": {
  "anaconda-cloud": {},
  "celltoolbar": "Raw Cell Format",
  "kernelspec": {
   "display_name": "Python 3",
   "language": "python",
   "name": "python3"
  },
  "language_info": {
   "codemirror_mode": {
    "name": "ipython",
    "version": 3
   },
   "file_extension": ".py",
   "mimetype": "text/x-python",
   "name": "python",
   "nbconvert_exporter": "python",
   "pygments_lexer": "ipython3",
   "version": "3.7.1"
  }
 },
 "nbformat": 4,
 "nbformat_minor": 1
}
