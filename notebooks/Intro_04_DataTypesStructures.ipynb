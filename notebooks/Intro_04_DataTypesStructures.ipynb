{
 "cells": [
  {
   "cell_type": "markdown",
   "metadata": {
    "slideshow": {
     "slide_type": "slide"
    }
   },
   "source": [
    "# Data types & Structures\n",
    "\n",
    "## Open in Colab\n",
    "[![Open In Colab](https://colab.research.google.com/assets/colab-badge.svg)](https://colab.research.google.com/github/SUPScientist/Advanced-Quantitative-Oceanography/blob/main/notebooks/Intro_04_DataTypesStructures.ipynb)"
   ]
  },
  {
   "cell_type": "markdown",
   "metadata": {
    "slideshow": {
     "slide_type": "fragment"
    }
   },
   "source": [
    "### A great advatage of `Python` is the type of data it can handle & combine\n",
    "Python has been widely used to handle internet related operations, which means lots and lots of text and numbers. combined!"
   ]
  },
  {
   "cell_type": "markdown",
   "metadata": {},
   "source": [
    "***"
   ]
  },
  {
   "cell_type": "markdown",
   "metadata": {},
   "source": [
    "# HOMEWORK STEP 0\n",
    "Execute (SHIFT + ENTER, or press the \"play\" button) every cell in this notebook to have it run through all calculations. Save and download as .ipynb after running everything and completing the steps described below."
   ]
  },
  {
   "cell_type": "markdown",
   "metadata": {
    "slideshow": {
     "slide_type": "slide"
    }
   },
   "source": [
    "## Let's start with the basic types!\n",
    "### Like other programing languages, `Python` data types include integers, floats, complex, and strings & boolean"
   ]
  },
  {
   "cell_type": "markdown",
   "metadata": {},
   "source": [
    "# HOMEWORK STEP 1\n",
    "<div class=\"alert alert-block alert-info\">\n",
    "    In the next cell, assign a float value to <b>x</b> and execute the cell\n",
    "</div>"
   ]
  },
  {
   "cell_type": "code",
   "execution_count": 3,
   "metadata": {
    "slideshow": {
     "slide_type": "fragment"
    }
   },
   "outputs": [
    {
     "name": "stdout",
     "output_type": "stream",
     "text": [
      "20\n"
     ]
    }
   ],
   "source": [
    "lat = 20\n",
    "x =\n",
    "print(lat)"
   ]
  },
  {
   "cell_type": "markdown",
   "metadata": {},
   "source": [
    "# HOMEWORK STEP 2\n",
    "<div class=\"alert alert-block alert-info\">\n",
    "    Assign an integer value to <b>y</b> and execute the cell\n",
    "</div>"
   ]
  },
  {
   "cell_type": "code",
   "execution_count": 4,
   "metadata": {},
   "outputs": [
    {
     "name": "stdout",
     "output_type": "stream",
     "text": [
      "3 60\n"
     ]
    }
   ],
   "source": [
    "y = \n",
    "print(y, lat*y)"
   ]
  },
  {
   "cell_type": "markdown",
   "metadata": {},
   "source": [
    "# HOMEWORK STEP 3\n",
    "### Complex values are identified by a `j` at the end\n",
    "<div class=\"alert alert-block alert-info\">\n",
    "    Assign a complex value to <b>z</b> and execute the cell\n",
    "</div>"
   ]
  },
  {
   "cell_type": "code",
   "execution_count": 1,
   "metadata": {},
   "outputs": [
    {
     "name": "stdout",
     "output_type": "stream",
     "text": [
      "(4+5j) <class 'complex'>\n"
     ]
    }
   ],
   "source": [
    "z = 4 + 5j\n",
    "print(z, type(z))"
   ]
  },
  {
   "cell_type": "markdown",
   "metadata": {},
   "source": [
    "# HOMEWORK STEP 4\n",
    "### Variables can be reassigned to other types anytime\n",
    "<div class=\"alert alert-block alert-info\">\n",
    "    Execute the next cell\n",
    "</div>"
   ]
  },
  {
   "cell_type": "code",
   "execution_count": null,
   "metadata": {},
   "outputs": [],
   "source": [
    "lat = 'Latitude'  \n",
    "print(lat)\n",
    "step = True\n",
    "print(step)"
   ]
  },
  {
   "cell_type": "markdown",
   "metadata": {},
   "source": [
    "# HOMEWORK STEP 5\n",
    "<div class=\"alert alert-block alert-info\">\n",
    "    Define your own string and boolean variables and print their type in the next cell\n",
    "</div>\n",
    "Hint: look up how to get the type of a variable in Python, then print that type."
   ]
  },
  {
   "cell_type": "markdown",
   "metadata": {},
   "source": []
  },
  {
   "cell_type": "markdown",
   "metadata": {
    "slideshow": {
     "slide_type": "fragment"
    }
   },
   "source": [
    "# HOMEWORK STEP 6\n",
    "## One of the best types: datetime!\n",
    "<div class=\"alert alert-block alert-info\">\n",
    "    - Execute the code in the next cell to define two datetime variables: <b>today1</b> & <b>today2</b>\n",
    "</div>"
   ]
  },
  {
   "cell_type": "code",
   "execution_count": 4,
   "metadata": {
    "slideshow": {
     "slide_type": "fragment"
    }
   },
   "outputs": [],
   "source": [
    "from datetime import date # call date function inside the datetime package\n",
    "today1 = date.today()\n",
    "from datetime import datetime # call datetime function inside the datetime package\n",
    "today2 = datetime.now()"
   ]
  },
  {
   "cell_type": "markdown",
   "metadata": {},
   "source": [
    "# HOMEWORK STEP 7\n",
    "<div class=\"alert alert-block alert-info\">\n",
    "    - Now print both variables\n",
    "    <br>\n",
    "    - Try printing <b>today1.month</b>\n",
    "    <br>\n",
    "    - Try printing the following <b>today2.strftime('%c')</b>\n",
    "    <br>\n",
    "    - Now print the type of one of your date variables\n",
    "</div> "
   ]
  },
  {
   "cell_type": "code",
   "execution_count": null,
   "metadata": {},
   "outputs": [],
   "source": []
  },
  {
   "cell_type": "markdown",
   "metadata": {},
   "source": [
    "<br>Note the use of <b>.</b> after a variable. This refers to a method of the variable or, as Python refers to it, the object."
   ]
  },
  {
   "cell_type": "markdown",
   "metadata": {},
   "source": [
    "We will use other functions of the datetime package later, and you could find more details about the attributes of the datetime object (variable): https://www.guru99.com/date-time-and-datetime-classes-in-python.html\n",
    "***"
   ]
  },
  {
   "cell_type": "markdown",
   "metadata": {
    "slideshow": {
     "slide_type": "slide"
    }
   },
   "source": [
    "## Python has a some basic data collections, we will talk about three of them:\n",
    "    List - ordered, changeable, allows duplicates\n",
    "    Tuple - ordered, unchangeable, allows duplicates\n",
    "    Dictionary - unordered, changeable, no duplicates allowed\n",
    "***"
   ]
  },
  {
   "cell_type": "markdown",
   "metadata": {
    "tags": []
   },
   "source": [
    "# HOMEWORK STEP 8\n",
    "## Lists: ordered, changeable, allows duplicates\n",
    "<div class=\"alert alert-block alert-info\">\n",
    "    - Execute the code below and print the list\n",
    "    <br>\n",
    "    - Print the type of <b>mylist</b>\n",
    "</div>"
   ]
  },
  {
   "cell_type": "code",
   "execution_count": 6,
   "metadata": {},
   "outputs": [],
   "source": [
    "mylist=['temperature', 'wind', 'salinity']  # note the use of [ ]"
   ]
  },
  {
   "cell_type": "markdown",
   "metadata": {},
   "source": [
    "### To access an element of a list we use the indices, that start at `0`\n",
    "<div class=\"alert alert-block alert-info\">\n",
    "    - Try printing: <b>mylist[0]</b>\n",
    "    <br>\n",
    "    - Now try reassigning the value of the second element to <b>'current velocity'</b>\n",
    "</div>"
   ]
  },
  {
   "cell_type": "code",
   "execution_count": 10,
   "metadata": {},
   "outputs": [
    {
     "name": "stdout",
     "output_type": "stream",
     "text": [
      "temperature\n"
     ]
    }
   ],
   "source": [
    "mylist[1] = 'current velocity'\n",
    "print(mylist[0])"
   ]
  },
  {
   "cell_type": "markdown",
   "metadata": {},
   "source": [
    "### To add an element to the list use the method append\n",
    "<div class=\"alert alert-block alert-info\">\n",
    "    - Try <b>mylist.append('wind speed')</b>\n",
    "    <br>\n",
    "    - Then execute the next cell to print the entire list with a for loop\n",
    "</div>"
   ]
  },
  {
   "cell_type": "code",
   "execution_count": 11,
   "metadata": {},
   "outputs": [],
   "source": [
    "mylist.append('wind speed')"
   ]
  },
  {
   "cell_type": "code",
   "execution_count": 12,
   "metadata": {},
   "outputs": [
    {
     "name": "stdout",
     "output_type": "stream",
     "text": [
      "temperature has been recorded\n",
      "current velocity has been recorded\n",
      "salinity has been recorded\n",
      "wind speed has been recorded\n",
      "wind speed has been recorded\n"
     ]
    }
   ],
   "source": [
    "for myvar in mylist:\n",
    "    print(myvar+\" has been recorded\")"
   ]
  },
  {
   "cell_type": "markdown",
   "metadata": {},
   "source": [
    "***\n",
    "## Tuples: ordered, unchangeable, allows duplicates\n",
    "<div class=\"alert alert-block alert-info\">\n",
    "    - Execute the code below and print the tuple\n",
    "    <br>\n",
    "    - Print the type of <b>mytuple</b>\n",
    "    <br>\n",
    "    - Print one element of <b>mytuple</b>\n",
    "</div>"
   ]
  },
  {
   "cell_type": "code",
   "execution_count": 13,
   "metadata": {},
   "outputs": [],
   "source": [
    "mytuple = ('latitude', 'longitude', 'time')  # note the use of ( )"
   ]
  },
  {
   "cell_type": "markdown",
   "metadata": {},
   "source": [
    "### Note:\n",
    "The error that the following cell produces is acceptable. Normally we do not want errors, but this error is intentional to teach how tuples work.\n",
    "<div class=\"alert alert-block alert-info\">\n",
    "    - Now try reassigning an element of <b>mytuple</b>\n",
    "</div>"
   ]
  },
  {
   "cell_type": "code",
   "execution_count": 15,
   "metadata": {},
   "outputs": [
    {
     "ename": "TypeError",
     "evalue": "'tuple' object does not support item assignment",
     "output_type": "error",
     "traceback": [
      "\u001b[0;31m---------------------------------------------------------------------------\u001b[0m",
      "\u001b[0;31mTypeError\u001b[0m                                 Traceback (most recent call last)",
      "\u001b[0;32m/var/folders/7t/xlh_vvfj7p353njns063zqhw0000gn/T/ipykernel_29992/3804316283.py\u001b[0m in \u001b[0;36m<cell line: 1>\u001b[0;34m()\u001b[0m\n\u001b[0;32m----> 1\u001b[0;31m \u001b[0mmytuple\u001b[0m\u001b[0;34m[\u001b[0m\u001b[0;36m1\u001b[0m\u001b[0;34m]\u001b[0m \u001b[0;34m=\u001b[0m \u001b[0;34m'current speed'\u001b[0m\u001b[0;34m\u001b[0m\u001b[0;34m\u001b[0m\u001b[0m\n\u001b[0m",
      "\u001b[0;31mTypeError\u001b[0m: 'tuple' object does not support item assignment"
     ]
    }
   ],
   "source": [
    "mytuple[1] = 'current speed'"
   ]
  },
  {
   "cell_type": "markdown",
   "metadata": {},
   "source": [
    "*** \n",
    "## Dictionaries: unordered, changeable, no duplicates allowed\n",
    "### Indexed pair of keys and values\n",
    "<div class=\"alert alert-block alert-info\">\n",
    "    - Execute the code below, and print the dictionary\n",
    "    <br>\n",
    "    - Add a new element to <b>mydict</b> with <b>mydict['units']='C'</b>\n",
    "    <br>\n",
    "    - Print one element of <b>mydict</b>. <i>Hint: the key is the key</i> \n",
    "</div>"
   ]
  },
  {
   "cell_type": "code",
   "execution_count": 16,
   "metadata": {},
   "outputs": [],
   "source": [
    "mydict = {'instrument': 'temperature sensor', 'measurement':'SST','depth': 5}"
   ]
  },
  {
   "cell_type": "code",
   "execution_count": 19,
   "metadata": {},
   "outputs": [
    {
     "data": {
      "text/plain": [
       "{'instrument': 'temperature sensor',\n",
       " 'measurement': 'SST',\n",
       " 'depth': 5,\n",
       " 'units': 'C'}"
      ]
     },
     "execution_count": 19,
     "metadata": {},
     "output_type": "execute_result"
    }
   ],
   "source": [
    "mydict['units']='C'\n",
    "mydict"
   ]
  },
  {
   "cell_type": "markdown",
   "metadata": {
    "slideshow": {
     "slide_type": "slide"
    }
   },
   "source": [
    "Certain libraries have specific data structures - arrays, data frames, and datasets\n",
    "examples of each, but we will go back talking about each library."
   ]
  },
  {
   "cell_type": "markdown",
   "metadata": {},
   "source": [
    "***\n",
    "***\n",
    "# Few words about `Objects`, `Attributes` & `Methods`\n",
    "## `Python` is an object oriented programming language. This means almost everything is an object or instances of a class. Variables are objects. And therefore they have `attributes` & `methods`\n",
    "\n",
    "### `Properties` or `Attributes` are accessed with  `.attribute` after the object\n",
    "### `Methods` are functions, & are accessed with `.method(arguments)` after the object\n",
    "We're not going to teach you how to create classes with properties or methods, but how to access them, because we will use them extensively\n",
    "<div class=\"alert alert-block alert-info\">\n",
    "    Execute the code in the next cell to access the attributes and one method of the class <b>date</b>\n",
    "    </div>"
   ]
  },
  {
   "cell_type": "code",
   "execution_count": 5,
   "metadata": {},
   "outputs": [
    {
     "name": "stdout",
     "output_type": "stream",
     "text": [
      "2022-09-22\n",
      "2022 9 22\n",
      "Thu Sep 22 00:00:00 2022\n"
     ]
    }
   ],
   "source": [
    "today = date.today()\n",
    "print(today)\n",
    "## Date object attributes\n",
    "print(today.year, today.month, today.day) \n",
    "## Date object method 'ctime' - do not need arguments\n",
    "print(today.ctime())"
   ]
  },
  {
   "cell_type": "markdown",
   "metadata": {},
   "source": [
    "# HOMEWORK STEP 9\n",
    "Look up the meaning of attributes of an object in Python. Describe attributes in your own language in a Markdown/Text cell below."
   ]
  },
  {
   "cell_type": "code",
   "execution_count": null,
   "metadata": {},
   "outputs": [],
   "source": []
  }
 ],
 "metadata": {
  "kernelspec": {
   "display_name": "Python 3 (ipykernel)",
   "language": "python",
   "name": "python3"
  },
  "language_info": {
   "codemirror_mode": {
    "name": "ipython",
    "version": 3
   },
   "file_extension": ".py",
   "mimetype": "text/x-python",
   "name": "python",
   "nbconvert_exporter": "python",
   "pygments_lexer": "ipython3",
   "version": "3.9.12"
  }
 },
 "nbformat": 4,
 "nbformat_minor": 4
}
