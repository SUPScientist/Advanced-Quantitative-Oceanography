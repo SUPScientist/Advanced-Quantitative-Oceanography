{
 "cells": [
  {
   "cell_type": "markdown",
   "id": "b1b18037-6e4a-40b1-a361-a2df5274eaf8",
   "metadata": {},
   "source": [
    "# Argo Analysis, Repeated\n",
    "\n",
    "\n",
    "## Open in Colab\n",
    "[![Open In Colab](https://colab.research.google.com/assets/colab-badge.svg)](https://colab.research.google.com/github/SUPScientist/Advanced-Quantitative-Oceanography/blob/main/notebooks/Intro_08_ArgoRepeated.ipynb.ipynb)\n",
    "\n",
    "## Introduction to Exercise\n",
    "In HW03, we explored the International Argo Program and analyzed/visualized data from an Argo float in Excel. In this exercise, we will repeat much of the same analysis but this time using Python. We will import several modules (e.g., matplotlib, numpy, and pandas) for plotting, analyzing, and importing data. \n",
    "\n",
    "As you work through the exercise, compare your experience executing this Python/Jupyter notebook with your earlier experience with Excel."
   ]
  },
  {
   "cell_type": "markdown",
   "id": "b10cf084-e221-4658-8e13-72b2669209bc",
   "metadata": {},
   "source": [
    "# Modules\n",
    "Import modules for data analysis and visualization"
   ]
  },
  {
   "cell_type": "markdown",
   "id": "c47ecff2-2b17-49f8-aaf2-c8a9c924b2aa",
   "metadata": {},
   "source": [
    "# HOMEWORK STEP 1:\n",
    "In the following cell, import the three modules mentioned in the lecture using the same lingo: e.g., \"import some_module as sm\" but replace \"some_module\" and \"sm\" with the module name and abbreviation from the lecture."
   ]
  },
  {
   "cell_type": "code",
   "execution_count": 1,
   "id": "8f8c39a6-c5c8-41cf-b50a-082b3303b580",
   "metadata": {},
   "outputs": [],
   "source": [
    "import numpy as np\n",
    "import pandas as pd\n",
    "import matplotlib.pyplot as plt"
   ]
  },
  {
   "cell_type": "markdown",
   "id": "e1de2925-b3b0-4deb-8175-78aa50af4381",
   "metadata": {},
   "source": [
    "# Data\n",
    "Read in data from the web. Note that this step could also be done with data stored locally (on your computer) or on your cloud (e.g., google drive integrates well with google colab)."
   ]
  },
  {
   "cell_type": "markdown",
   "id": "8b8e9c49-82e4-4026-8ab1-37c667357816",
   "metadata": {},
   "source": [
    "## Data URL:\n",
    "Where can we find the data"
   ]
  },
  {
   "cell_type": "code",
   "execution_count": 2,
   "id": "8b5c462a-7021-4bfc-9858-11b93108249a",
   "metadata": {},
   "outputs": [],
   "source": [
    "data_url = 'https://raw.githubusercontent.com/SUPScientist/Advanced-Quantitative-Oceanography/main/data/6903547_20200825175908678.csv'"
   ]
  },
  {
   "cell_type": "markdown",
   "id": "946cc15b-7d21-4770-93c2-8490dcf8bca5",
   "metadata": {},
   "source": [
    "## Read it in\n",
    "Use pandas (imported as pd above) to read in the CSV file. This is analogous to right clicking and choosing \"Open with...\"-->\"Excel\" in HW03. After the following step, the data will be loaded into the computer's working memory, but it won't all be visible, so we'll print out the last five rows using the .tail() method."
   ]
  },
  {
   "cell_type": "code",
   "execution_count": 3,
   "id": "da74192e-2591-4e25-bedb-5f652b2a4610",
   "metadata": {},
   "outputs": [
    {
     "name": "stderr",
     "output_type": "stream",
     "text": [
      "/var/folders/9z/6wqx9_n10fxgqqh0dmf4kv6j7wvkzn/T/ipykernel_65847/1043907849.py:1: DtypeWarning: Columns (26) have mixed types. Specify dtype option on import or set low_memory=False.\n",
      "  df_full = pd.read_csv(data_url) # Carolina Runner/Banks Channel\n"
     ]
    },
    {
     "data": {
      "text/html": [
       "<div>\n",
       "<style scoped>\n",
       "    .dataframe tbody tr th:only-of-type {\n",
       "        vertical-align: middle;\n",
       "    }\n",
       "\n",
       "    .dataframe tbody tr th {\n",
       "        vertical-align: top;\n",
       "    }\n",
       "\n",
       "    .dataframe thead th {\n",
       "        text-align: right;\n",
       "    }\n",
       "</style>\n",
       "<table border=\"1\" class=\"dataframe\">\n",
       "  <thead>\n",
       "    <tr style=\"text-align: right;\">\n",
       "      <th></th>\n",
       "      <th>PLATFORM</th>\n",
       "      <th>ARGOS_ID</th>\n",
       "      <th>DATE (YYYY/MM/DD HH:MI:SS)</th>\n",
       "      <th>LATITUDE (degree_north)</th>\n",
       "      <th>LONGITUDE (degree_east)</th>\n",
       "      <th>PRES (decibar)</th>\n",
       "      <th>TEMP (degree_Celsius)</th>\n",
       "      <th>PSAL (psu)</th>\n",
       "      <th>PSAL_ADJUSTED_ERROR (psu)</th>\n",
       "      <th>PSAL_ADJUSTED (psu)</th>\n",
       "      <th>...</th>\n",
       "      <th>PREDEPLOYMENT_CALIB_COMMENT</th>\n",
       "      <th>STATION_PARAMETERS</th>\n",
       "      <th>CALIBRATION_DATE</th>\n",
       "      <th>VERTICAL_SAMPLING_SCHEME</th>\n",
       "      <th>CONFIG_MISSION_NUMBER</th>\n",
       "      <th>DATA_MODE</th>\n",
       "      <th>PARAMETER_DATA_MODE</th>\n",
       "      <th>PHYSICAL_PARAMETER_CODE</th>\n",
       "      <th>Unnamed: 26</th>\n",
       "      <th>Unnamed: 27</th>\n",
       "    </tr>\n",
       "  </thead>\n",
       "  <tbody>\n",
       "    <tr>\n",
       "      <th>49682</th>\n",
       "      <td>6903547</td>\n",
       "      <td>586594</td>\n",
       "      <td>8/20/20 20:19</td>\n",
       "      <td>76.888</td>\n",
       "      <td>4.5192</td>\n",
       "      <td>2012.8</td>\n",
       "      <td>-0.666</td>\n",
       "      <td>34.929</td>\n",
       "      <td>NaN</td>\n",
       "      <td>34.929</td>\n",
       "      <td>...</td>\n",
       "      <td>No adjustment performed (values duplicated)</td>\n",
       "      <td>PRES</td>\n",
       "      <td>20/08/2020 21:25:43</td>\n",
       "      <td>Primary sampling: averaged [10 sec sampling</td>\n",
       "      <td>5 dbar average from 2000 dbar to 500 dbar; 10...</td>\n",
       "      <td>2 dbar average from 500 dbar to 100 dbar; 10 ...</td>\n",
       "      <td>1 dbar average from 100 dbar to 2.5 dbar]</td>\n",
       "      <td>2.0</td>\n",
       "      <td>R</td>\n",
       "      <td>28.0</td>\n",
       "    </tr>\n",
       "    <tr>\n",
       "      <th>49683</th>\n",
       "      <td>6903547</td>\n",
       "      <td>586594</td>\n",
       "      <td>8/20/20 20:19</td>\n",
       "      <td>76.888</td>\n",
       "      <td>4.5192</td>\n",
       "      <td>2017.7</td>\n",
       "      <td>-0.667</td>\n",
       "      <td>34.929</td>\n",
       "      <td>NaN</td>\n",
       "      <td>34.929</td>\n",
       "      <td>...</td>\n",
       "      <td>No adjustment performed (values duplicated)</td>\n",
       "      <td>PRES</td>\n",
       "      <td>20/08/2020 21:25:43</td>\n",
       "      <td>Primary sampling: averaged [10 sec sampling</td>\n",
       "      <td>5 dbar average from 2000 dbar to 500 dbar; 10...</td>\n",
       "      <td>2 dbar average from 500 dbar to 100 dbar; 10 ...</td>\n",
       "      <td>1 dbar average from 100 dbar to 2.5 dbar]</td>\n",
       "      <td>2.0</td>\n",
       "      <td>R</td>\n",
       "      <td>28.0</td>\n",
       "    </tr>\n",
       "    <tr>\n",
       "      <th>49684</th>\n",
       "      <td>6903547</td>\n",
       "      <td>586594</td>\n",
       "      <td>8/20/20 20:19</td>\n",
       "      <td>76.888</td>\n",
       "      <td>4.5192</td>\n",
       "      <td>0.4</td>\n",
       "      <td>6.686</td>\n",
       "      <td>34.793</td>\n",
       "      <td>NaN</td>\n",
       "      <td>34.793</td>\n",
       "      <td>...</td>\n",
       "      <td>No adjustment performed (values duplicated)</td>\n",
       "      <td>PRES</td>\n",
       "      <td>20/08/2020 21:25:43</td>\n",
       "      <td>Near-surface sampling: averaged</td>\n",
       "      <td>unpumped [10 sec sampling</td>\n",
       "      <td>1 dbar average from 2.5 dbar to surface]</td>\n",
       "      <td>2</td>\n",
       "      <td>NaN</td>\n",
       "      <td>28</td>\n",
       "      <td>NaN</td>\n",
       "    </tr>\n",
       "    <tr>\n",
       "      <th>49685</th>\n",
       "      <td>6903547</td>\n",
       "      <td>586594</td>\n",
       "      <td>8/20/20 20:19</td>\n",
       "      <td>76.888</td>\n",
       "      <td>4.5192</td>\n",
       "      <td>1.0</td>\n",
       "      <td>6.686</td>\n",
       "      <td>34.806</td>\n",
       "      <td>NaN</td>\n",
       "      <td>34.806</td>\n",
       "      <td>...</td>\n",
       "      <td>No adjustment performed (values duplicated)</td>\n",
       "      <td>PRES</td>\n",
       "      <td>20/08/2020 21:25:43</td>\n",
       "      <td>Near-surface sampling: averaged</td>\n",
       "      <td>unpumped [10 sec sampling</td>\n",
       "      <td>1 dbar average from 2.5 dbar to surface]</td>\n",
       "      <td>2</td>\n",
       "      <td>NaN</td>\n",
       "      <td>28</td>\n",
       "      <td>NaN</td>\n",
       "    </tr>\n",
       "    <tr>\n",
       "      <th>49686</th>\n",
       "      <td>6903547</td>\n",
       "      <td>586594</td>\n",
       "      <td>8/20/20 20:19</td>\n",
       "      <td>76.888</td>\n",
       "      <td>4.5192</td>\n",
       "      <td>1.9</td>\n",
       "      <td>6.684</td>\n",
       "      <td>34.838</td>\n",
       "      <td>NaN</td>\n",
       "      <td>34.838</td>\n",
       "      <td>...</td>\n",
       "      <td>No adjustment performed (values duplicated)</td>\n",
       "      <td>PRES</td>\n",
       "      <td>20/08/2020 21:25:43</td>\n",
       "      <td>Near-surface sampling: averaged</td>\n",
       "      <td>unpumped [10 sec sampling</td>\n",
       "      <td>1 dbar average from 2.5 dbar to surface]</td>\n",
       "      <td>2</td>\n",
       "      <td>NaN</td>\n",
       "      <td>28</td>\n",
       "      <td>NaN</td>\n",
       "    </tr>\n",
       "  </tbody>\n",
       "</table>\n",
       "<p>5 rows × 28 columns</p>\n",
       "</div>"
      ],
      "text/plain": [
       "       PLATFORM  ARGOS_ID DATE (YYYY/MM/DD HH:MI:SS)  LATITUDE (degree_north)  \\\n",
       "49682   6903547    586594              8/20/20 20:19                   76.888   \n",
       "49683   6903547    586594              8/20/20 20:19                   76.888   \n",
       "49684   6903547    586594              8/20/20 20:19                   76.888   \n",
       "49685   6903547    586594              8/20/20 20:19                   76.888   \n",
       "49686   6903547    586594              8/20/20 20:19                   76.888   \n",
       "\n",
       "       LONGITUDE (degree_east)  PRES (decibar)  TEMP (degree_Celsius)  \\\n",
       "49682                   4.5192          2012.8                 -0.666   \n",
       "49683                   4.5192          2017.7                 -0.667   \n",
       "49684                   4.5192             0.4                  6.686   \n",
       "49685                   4.5192             1.0                  6.686   \n",
       "49686                   4.5192             1.9                  6.684   \n",
       "\n",
       "       PSAL (psu)  PSAL_ADJUSTED_ERROR (psu)  PSAL_ADJUSTED (psu)  ...  \\\n",
       "49682      34.929                        NaN               34.929  ...   \n",
       "49683      34.929                        NaN               34.929  ...   \n",
       "49684      34.793                        NaN               34.793  ...   \n",
       "49685      34.806                        NaN               34.806  ...   \n",
       "49686      34.838                        NaN               34.838  ...   \n",
       "\n",
       "                       PREDEPLOYMENT_CALIB_COMMENT  STATION_PARAMETERS  \\\n",
       "49682  No adjustment performed (values duplicated)                PRES   \n",
       "49683  No adjustment performed (values duplicated)                PRES   \n",
       "49684  No adjustment performed (values duplicated)                PRES   \n",
       "49685  No adjustment performed (values duplicated)                PRES   \n",
       "49686  No adjustment performed (values duplicated)                PRES   \n",
       "\n",
       "          CALIBRATION_DATE                     VERTICAL_SAMPLING_SCHEME  \\\n",
       "49682  20/08/2020 21:25:43  Primary sampling: averaged [10 sec sampling   \n",
       "49683  20/08/2020 21:25:43  Primary sampling: averaged [10 sec sampling   \n",
       "49684  20/08/2020 21:25:43              Near-surface sampling: averaged   \n",
       "49685  20/08/2020 21:25:43              Near-surface sampling: averaged   \n",
       "49686  20/08/2020 21:25:43              Near-surface sampling: averaged   \n",
       "\n",
       "                                   CONFIG_MISSION_NUMBER  \\\n",
       "49682   5 dbar average from 2000 dbar to 500 dbar; 10...   \n",
       "49683   5 dbar average from 2000 dbar to 500 dbar; 10...   \n",
       "49684                          unpumped [10 sec sampling   \n",
       "49685                          unpumped [10 sec sampling   \n",
       "49686                          unpumped [10 sec sampling   \n",
       "\n",
       "                                               DATA_MODE  \\\n",
       "49682   2 dbar average from 500 dbar to 100 dbar; 10 ...   \n",
       "49683   2 dbar average from 500 dbar to 100 dbar; 10 ...   \n",
       "49684           1 dbar average from 2.5 dbar to surface]   \n",
       "49685           1 dbar average from 2.5 dbar to surface]   \n",
       "49686           1 dbar average from 2.5 dbar to surface]   \n",
       "\n",
       "                              PARAMETER_DATA_MODE PHYSICAL_PARAMETER_CODE  \\\n",
       "49682   1 dbar average from 100 dbar to 2.5 dbar]                     2.0   \n",
       "49683   1 dbar average from 100 dbar to 2.5 dbar]                     2.0   \n",
       "49684                                           2                     NaN   \n",
       "49685                                           2                     NaN   \n",
       "49686                                           2                     NaN   \n",
       "\n",
       "      Unnamed: 26 Unnamed: 27  \n",
       "49682           R        28.0  \n",
       "49683           R        28.0  \n",
       "49684          28         NaN  \n",
       "49685          28         NaN  \n",
       "49686          28         NaN  \n",
       "\n",
       "[5 rows x 28 columns]"
      ]
     },
     "execution_count": 3,
     "metadata": {},
     "output_type": "execute_result"
    }
   ],
   "source": [
    "df_full = pd.read_csv(data_url) # Carolina Runner/Banks Channel\n",
    "\n",
    "df_full.tail()"
   ]
  },
  {
   "cell_type": "markdown",
   "id": "7685758a-5e05-4711-b309-1e2872651d78",
   "metadata": {},
   "source": [
    "## Column headers\n",
    "Pull from these variables when choosing what to plot below"
   ]
  },
  {
   "cell_type": "code",
   "execution_count": 4,
   "id": "d4b58a94-c2dd-479f-a548-ee6f40914b7e",
   "metadata": {},
   "outputs": [
    {
     "data": {
      "text/plain": [
       "Index(['PLATFORM', 'ARGOS_ID', 'DATE (YYYY/MM/DD HH:MI:SS)',\n",
       "       'LATITUDE (degree_north)', 'LONGITUDE (degree_east)', 'PRES (decibar)',\n",
       "       'TEMP (degree_Celsius)', 'PSAL (psu)', 'PSAL_ADJUSTED_ERROR (psu)',\n",
       "       'PSAL_ADJUSTED (psu)', 'TEMP_ADJUSTED_ERROR (degree_Celsius)',\n",
       "       'TEMP_ADJUSTED (degree_Celsius)', 'PRES_ADJUSTED (decibar)',\n",
       "       'PRES_ADJUSTED_ERROR (decibar)', 'QC', 'PARAMETER',\n",
       "       'PREDEPLOYMENT_CALIB_EQUATION', 'PREDEPLOYMENT_CALIB_COEFFICIENT',\n",
       "       'PREDEPLOYMENT_CALIB_COMMENT', 'STATION_PARAMETERS', 'CALIBRATION_DATE',\n",
       "       'VERTICAL_SAMPLING_SCHEME', 'CONFIG_MISSION_NUMBER', 'DATA_MODE',\n",
       "       'PARAMETER_DATA_MODE', 'PHYSICAL_PARAMETER_CODE', 'Unnamed: 26',\n",
       "       'Unnamed: 27'],\n",
       "      dtype='object')"
      ]
     },
     "execution_count": 4,
     "metadata": {},
     "output_type": "execute_result"
    }
   ],
   "source": [
    "df_full.columns"
   ]
  },
  {
   "cell_type": "markdown",
   "id": "58de3b12-481a-499a-b3de-5e5330815207",
   "metadata": {},
   "source": [
    "# Plots\n",
    "## Homework Step 2: Float Trajectory\n",
    "Add the exact column name to the variables below to gain access to the data of interest and plot the float trajectory. Note that a geographer would expect a proper map coordinate system, but we'll go with the simpler version of a scatterplot. Check out GGY 421 Spatial Programming and other GIS-focused courses in the Earth and Ocean Sciences department for more information on coordinate references systems and mapping techniques."
   ]
  },
  {
   "cell_type": "code",
   "execution_count": 5,
   "id": "6e87470b-0aeb-48f0-bcaa-6aa3f4d21a71",
   "metadata": {},
   "outputs": [],
   "source": [
    "lat_var_name = 'LATITUDE (degree_north)' # Change to correct variable name for latitude, copying straight out of columns above\n",
    "lon_var_name = 'LONGITUDE (degree_east)' # Ditto, but longitude\n",
    "\n",
    "lat = df_full[lat_var_name]\n",
    "lon = df_full[lon_var_name]"
   ]
  },
  {
   "cell_type": "markdown",
   "id": "761a18c8-72ce-47fb-b30b-a2949b3e3f13",
   "metadata": {},
   "source": [
    "## Homework Step 3: Labeling the Figure\n",
    "In the following code chunk, fill in the xlabel, ylabel, and title with the proper names (and include units, according to the variables you chose).\n",
    "For title: name the plot Name Argo Trajectory Figure where \"name\" is your name."
   ]
  },
  {
   "cell_type": "code",
   "execution_count": 6,
   "id": "412706af-7d3a-4a6b-8bb6-2621021e8667",
   "metadata": {},
   "outputs": [
    {
     "data": {
      "text/plain": [
       "Text(0.5, 1.0, 'Bresnahan Argo Trajectory Figure')"
      ]
     },
     "execution_count": 6,
     "metadata": {},
     "output_type": "execute_result"
    },
    {
     "data": {
      "image/png": "[encoded data removed]",
      "text/plain": [
       "<Figure size 432x288 with 1 Axes>"
      ]
     },
     "metadata": {
      "needs_background": "light"
     },
     "output_type": "display_data"
    }
   ],
   "source": [
    "fig, axs = plt.subplots()\n",
    "plt.plot(lon, lat, 'b.')\n",
    "axs.set_xlabel('correct label here') # Change 'correct label here' to the correct label\n",
    "# LOOK UP HOW TO ADD A Y-LABEL; HINT: IT'S ALMOST IDENTICAL TO THE LINE ABOVE\n",
    "axs.set_title('Bresnahan Argo Trajectory Figure') # Change my name to yours."
   ]
  },
  {
   "cell_type": "markdown",
   "id": "d2287524-ae2f-441a-9dd8-27687f3d5ae3",
   "metadata": {},
   "source": [
    "## Homework Step 4: Float Temperature Profile\n",
    "Add the exact column name to the variables below to gain access to the data of interest and plot the float trajectory. Note that a geographer would expect a proper map coordinate system, but we'll go with the simpler version of a scatterplot. Check out GGY 421 Spatial Programming and other GIS-focused courses in the Earth and Ocean Sciences department for more information on coordinate references systems and mapping techniques."
   ]
  },
  {
   "cell_type": "code",
   "execution_count": 7,
   "id": "85831ba5-6748-493e-bb82-622b884224ce",
   "metadata": {},
   "outputs": [],
   "source": [
    "temp_var_name = 'TEMP (degree_Celsius)' # Change to correct variable name for temperature\n",
    "depth_var_name = 'PRES (decibar)' # Change to correct variable name for depth, but recall what other variable is used for depth in oceanography\n",
    "\n",
    "depth = df_full[depth_var_name]\n",
    "temp = df_full[temp_var_name]"
   ]
  },
  {
   "cell_type": "markdown",
   "id": "79321bf5-3748-4b69-9f7b-7e7a72d78368",
   "metadata": {},
   "source": [
    "## Homework Step 5: Make Profile Plot\n",
    "Following step 3, add an xlabel, ylabel, and title with the proper names (and include units, according to the variables you chose).\n",
    "\n",
    "For title: name the plot Name Argo Profile Plot where \"name\" is your name.\n",
    "\n",
    "Make sure you put the proper variable in the proper place for a typical ocean temperature profile (i.e., pay attention to x vs. y)."
   ]
  },
  {
   "cell_type": "code",
   "execution_count": 8,
   "id": "b9ae42f0-36eb-4db5-8156-f76086445597",
   "metadata": {},
   "outputs": [
    {
     "data": {
      "image/png": "[encoded data removed]",
      "text/plain": [
       "<Figure size 432x288 with 1 Axes>"
      ]
     },
     "metadata": {
      "needs_background": "light"
     },
     "output_type": "display_data"
    }
   ],
   "source": [
    "fig, axs = plt.subplots()\n",
    "\n",
    "plt.plot(temp, depth, 'b.')\n",
    "\n",
    "plt.gca().invert_yaxis() #Flip the y-axis"
   ]
  },
  {
   "cell_type": "markdown",
   "id": "d3f60034-da36-4651-a6fb-0a1e436df625",
   "metadata": {},
   "source": [
    "## NOTE: Remember to add labels/title to plot above!"
   ]
  },
  {
   "cell_type": "markdown",
   "id": "cb12abb2-de6e-407a-bc35-dc723a425682",
   "metadata": {},
   "source": [
    "## Homework Step 6: Calculate Heat Gain/Loss\n",
    "Calculate your float's average temperature\n",
    "\n",
    "Calculate and and report how much heat would have to be added to warm that water to an average temperature of 10 ºC. Assume the float was measuring in a 1 m x 1 m (or 1 m2) box from 0–2,000 m deep. Use the specific heat (Cp) and density (ρ) from HW03 and the formula:\n",
    "\n",
    "Heat added = ∆H = ρ\\*Cp\\*∆T\\*V"
   ]
  },
  {
   "cell_type": "code",
   "execution_count": 9,
   "id": "0303b831-3dd6-4a4b-98d3-c593435dcd16",
   "metadata": {},
   "outputs": [
    {
     "name": "stdout",
     "output_type": "stream",
     "text": [
      "2.106884979974641\n"
     ]
    }
   ],
   "source": [
    "T_avg = np.nanmean(temp)\n",
    "print(T_avg)"
   ]
  },
  {
   "cell_type": "code",
   "execution_count": 10,
   "id": "0efd7e41-b7f0-4957-924c-90a896fd431a",
   "metadata": {},
   "outputs": [],
   "source": [
    "Delta_T = 10-T_avg"
   ]
  },
  {
   "cell_type": "code",
   "execution_count": 11,
   "id": "4b2e517d-7ff8-426c-9cd6-42cb5c9a3af6",
   "metadata": {},
   "outputs": [
    {
     "name": "stdout",
     "output_type": "stream",
     "text": [
      "62296410295.55015\n"
     ]
    }
   ],
   "source": [
    "rho = 1025 # find in previous HW\n",
    "Cp = 3850 # find in previous HW\n",
    "V = 2000 # find in previous HW (make sure if you got this wrong previously that you correct it now!)\n",
    "Delta_H = rho*Cp*Delta_T*V\n",
    "print(Delta_H)"
   ]
  },
  {
   "cell_type": "markdown",
   "id": "8a52b115-dd0d-405c-86ec-78970eb012f0",
   "metadata": {},
   "source": [
    "## Homework Step 7: Report ∆H\n",
    "Add a Text/Markdown cell below and write a sentence stating how much heat would have to be added to or taken from the water that your float sampled for it to reach an average temperature of 10 ºC. Hints: print the answer to `Delta_H` and USE CORRECT UNITS. Report the answer using scientific notation and with three significant digits."
   ]
  }
 ],
 "metadata": {
  "kernelspec": {
   "display_name": "Python 3 (ipykernel)",
   "language": "python",
   "name": "python3"
  },
  "language_info": {
   "codemirror_mode": {
    "name": "ipython",
    "version": 3
   },
   "file_extension": ".py",
   "mimetype": "text/x-python",
   "name": "python",
   "nbconvert_exporter": "python",
   "pygments_lexer": "ipython3",
   "version": "3.9.12"
  }
 },
 "nbformat": 4,
 "nbformat_minor": 5
}
