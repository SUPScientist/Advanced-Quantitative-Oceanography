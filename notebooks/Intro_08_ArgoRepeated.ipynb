{
 "cells": [
  {
   "cell_type": "markdown",
   "id": "b1b18037-6e4a-40b1-a361-a2df5274eaf8",
   "metadata": {},
   "source": [
    "# Argo Analysis, Repeated\n",
    "\n",
    "\n",
    "## Open in Colab\n",
    "[![Open In Colab](https://colab.research.google.com/assets/colab-badge.svg)](https://colab.research.google.com/github/SUPScientist/Advanced-Quantitative-Oceanography/blob/main/notebooks/Intro_08_ArgoRepeated.ipynb)\n",
    "\n",
    "## Introduction to Exercise\n",
    "In HW03, we explored the International Argo Program and analyzed/visualized data from an Argo float **in Excel.** In this exercise, we will repeat most of the same analysis **but this time using Python.** The goal is to reinforce our understanding of the differences between Excel and Python and ocean temperature profiles. \n",
    "\n",
    "We will import several modules (e.g., matplotlib, numpy, and pandas) for plotting, analyzing, and importing data. \n",
    "\n",
    "As you work through the exercise, compare your experience executing this Python/Jupyter notebook with your earlier experience with Excel."
   ]
  },
  {
   "cell_type": "markdown",
   "id": "b10cf084-e221-4658-8e13-72b2669209bc",
   "metadata": {},
   "source": [
    "# Modules\n",
    "Import modules for data analysis and visualization"
   ]
  },
  {
   "cell_type": "markdown",
   "id": "c47ecff2-2b17-49f8-aaf2-c8a9c924b2aa",
   "metadata": {},
   "source": [
    "## 🔧 HOMEWORK STEP 1\n",
    "### Import Modules\n",
    "In the following cell, import the four modules mentioned in the lecture using the same lingo: e.g., \"import some_module as sm\" but replace \"some_module\" and \"sm\" with the module name and abbreviation from the lecture."
   ]
  },
  {
   "cell_type": "code",
   "execution_count": null,
   "id": "8f8c39a6-c5c8-41cf-b50a-082b3303b580",
   "metadata": {
    "tags": []
   },
   "outputs": [],
   "source": []
  },
  {
   "cell_type": "markdown",
   "id": "e1de2925-b3b0-4deb-8175-78aa50af4381",
   "metadata": {},
   "source": [
    "# Data\n",
    "Read in data from the web. Note that this step could also be done with data stored locally (on your computer) or on your cloud (e.g., google drive integrates well with google colab)."
   ]
  },
  {
   "cell_type": "markdown",
   "id": "8b8e9c49-82e4-4026-8ab1-37c667357816",
   "metadata": {},
   "source": [
    "## Data URL:\n",
    "Where can we find the data"
   ]
  },
  {
   "cell_type": "code",
   "execution_count": null,
   "id": "8b5c462a-7021-4bfc-9858-11b93108249a",
   "metadata": {
    "tags": []
   },
   "outputs": [],
   "source": [
    "data_url = 'https://raw.githubusercontent.com/SUPScientist/Advanced-Quantitative-Oceanography/main/data/6903547_20200825175908678.csv'"
   ]
  },
  {
   "cell_type": "markdown",
   "id": "946cc15b-7d21-4770-93c2-8490dcf8bca5",
   "metadata": {},
   "source": [
    "## Read it in\n",
    "Use pandas (imported as pd above) to read in the CSV file. This is analogous to right clicking and choosing \"Open with...\"-->\"Excel\" in HW03. After the following step, the data will be loaded into the computer's working memory, but it won't all be visible, so we'll print out the last five rows using the .tail() method."
   ]
  },
  {
   "cell_type": "code",
   "execution_count": null,
   "id": "da74192e-2591-4e25-bedb-5f652b2a4610",
   "metadata": {
    "tags": []
   },
   "outputs": [],
   "source": [
    "df_full = pd.read_csv(data_url) # Argo dataset\n",
    "\n",
    "df_full.tail()"
   ]
  },
  {
   "cell_type": "markdown",
   "id": "7685758a-5e05-4711-b309-1e2872651d78",
   "metadata": {},
   "source": [
    "## Column headers\n",
    "Pull from these variables when choosing what to plot below"
   ]
  },
  {
   "cell_type": "code",
   "execution_count": null,
   "id": "d4b58a94-c2dd-479f-a548-ee6f40914b7e",
   "metadata": {},
   "outputs": [],
   "source": [
    "df_full.columns"
   ]
  },
  {
   "cell_type": "markdown",
   "id": "58de3b12-481a-499a-b3de-5e5330815207",
   "metadata": {},
   "source": [
    "# Plots\n",
    "## 🔧 HOMEWORK STEP 2\n",
    "### Float Trajectory\n",
    "Add the exact column name to the variables below to gain access to the data of interest and plot the float trajectory. Note that a geographer would expect a proper map coordinate system, but we'll go with the simpler version of a scatterplot. (Check out GGY 421 Spatial Programming and other GIS-focused courses in the Earth and Ocean Sciences department for more information on coordinate references systems and mapping techniques.)\n",
    "\n",
    "HINT: Copy exact column names corresponding to latitude and longitude from above and paste them in between the single quotation marks below, then execute the following cell."
   ]
  },
  {
   "cell_type": "code",
   "execution_count": null,
   "id": "6e87470b-0aeb-48f0-bcaa-6aa3f4d21a71",
   "metadata": {},
   "outputs": [],
   "source": [
    "lat_var_name = '' # Change to correct variable name for latitude, copying straight out of columns above\n",
    "lon_var_name = '' # Ditto, but longitude\n",
    "\n",
    "lat = df_full[lat_var_name]\n",
    "lon = df_full[lon_var_name]"
   ]
  },
  {
   "cell_type": "markdown",
   "id": "761a18c8-72ce-47fb-b30b-a2949b3e3f13",
   "metadata": {},
   "source": [
    "## 🔧 HOMEWORK STEP 3\n",
    "### Labeling the Figure\n",
    "In the following code chunk, fill in the xlabel, ylabel, and title with the proper names (and include units, according to the variables you chose).\n",
    "For title: name the plot Name Argo Trajectory Figure where \"name\" is your name."
   ]
  },
  {
   "cell_type": "code",
   "execution_count": null,
   "id": "412706af-7d3a-4a6b-8bb6-2621021e8667",
   "metadata": {},
   "outputs": [],
   "source": [
    "fig, axs = plt.subplots()\n",
    "plt.plot(lon, lat, 'b.')\n",
    "\n",
    "axs.set_xlabel('correct label here') # Change 'correct label here' to the correct label\n",
    "# LOOK UP HOW TO ADD A Y-LABEL; HINT: IT'S ALMOST IDENTICAL TO THE LINE ABOVE\n",
    "axs.set_title('Bresnahan Argo Trajectory Figure') # Change my name to yours."
   ]
  },
  {
   "cell_type": "markdown",
   "id": "d2287524-ae2f-441a-9dd8-27687f3d5ae3",
   "metadata": {},
   "source": [
    "## 🔧 HOMEWORK STEP 4\n",
    "### Float Temperature Profile\n",
    "Add the exact column name to the variables below to gain access to the data of interest. As in step 2, copy and paste from the column header output above. \n",
    "\n",
    "HINT: recall what other variable is used for depth in oceanography"
   ]
  },
  {
   "cell_type": "code",
   "execution_count": null,
   "id": "85831ba5-6748-493e-bb82-622b884224ce",
   "metadata": {},
   "outputs": [],
   "source": [
    "temp_var_name = '' # Change to correct variable name for temperature\n",
    "depth_var_name = '' # Change to correct variable name for depth\n",
    "\n",
    "depth = df_full[depth_var_name]\n",
    "temp = df_full[temp_var_name]"
   ]
  },
  {
   "cell_type": "markdown",
   "id": "79321bf5-3748-4b69-9f7b-7e7a72d78368",
   "metadata": {},
   "source": [
    "## 🔧 HOMEWORK STEP 5\n",
    "### Make Profile Plot\n",
    "Following step 3, add an xlabel, ylabel, and title with the proper names (and include units, according to the variables you chose).\n",
    "\n",
    "For title: name the plot Name Argo Profile Plot where \"name\" is your name.\n",
    "\n",
    "Make sure you put the proper variable in the proper place for a typical ocean temperature profile (i.e., pay attention to x vs. y)."
   ]
  },
  {
   "cell_type": "code",
   "execution_count": null,
   "id": "b9ae42f0-36eb-4db5-8156-f76086445597",
   "metadata": {},
   "outputs": [],
   "source": [
    "fig, axs = plt.subplots()\n",
    "\n",
    "plt.plot(temp, depth, 'b.')\n",
    "\n",
    "# Remove the hashtag and add your code to add an xlabel, ylabel, and title in three lines here. Copy code from Step 3.\n",
    "\n",
    "plt.gca().invert_yaxis() # Flip the y-axis"
   ]
  },
  {
   "cell_type": "markdown",
   "id": "d3f60034-da36-4651-a6fb-0a1e436df625",
   "metadata": {},
   "source": [
    "## NOTE: Remember to add labels/title to plot above!"
   ]
  },
  {
   "cell_type": "markdown",
   "id": "cb12abb2-de6e-407a-bc35-dc723a425682",
   "metadata": {},
   "source": [
    "## 🔧 HOMEWORK STEP 6\n",
    "### Calculate Heat Gain/Loss\n",
    "Calculate your float's average temperature\n",
    "\n",
    "Calculate and and report how much heat would have to be added to warm that water to an average temperature of 10 ºC. Assume the float was measuring in a 1 m x 1 m (or 1 m2) box from 0–2,000 m deep. Use the specific heat (Cp) and density (ρ) from HW03 and the formula:\n",
    "\n",
    "Heat added = ∆H = ρ\\*Cp\\*∆T\\*V"
   ]
  },
  {
   "cell_type": "code",
   "execution_count": null,
   "id": "0303b831-3dd6-4a4b-98d3-c593435dcd16",
   "metadata": {},
   "outputs": [],
   "source": [
    "T_avg = np.nanmean(temp)\n",
    "print(T_avg)"
   ]
  },
  {
   "cell_type": "code",
   "execution_count": null,
   "id": "0efd7e41-b7f0-4957-924c-90a896fd431a",
   "metadata": {},
   "outputs": [],
   "source": [
    "Delta_T = 10-T_avg"
   ]
  },
  {
   "cell_type": "code",
   "execution_count": null,
   "id": "4b2e517d-7ff8-426c-9cd6-42cb5c9a3af6",
   "metadata": {},
   "outputs": [],
   "source": [
    "rho =  # find in previous Argo HW\n",
    "Cp =  # find in previous HW\n",
    "V =  # find in previous HW (make sure if you got this wrong previously that you correct it now!)\n",
    "Delta_H = rho*Cp*Delta_T*V\n",
    "print(Delta_H)"
   ]
  },
  {
   "cell_type": "markdown",
   "id": "8a52b115-dd0d-405c-86ec-78970eb012f0",
   "metadata": {},
   "source": [
    "## 🔧 HOMEWORK STEP 7\n",
    "### Report ∆H\n",
    "Add a Text/Markdown cell below and write a sentence stating how much heat would have to be added to or taken from the water that your float sampled for it to reach an average temperature of 10 ºC. \n",
    "\n",
    "HINT: print the answer to `Delta_H` and USE CORRECT UNITS. Report the answer using scientific notation and with three significant digits."
   ]
  },
  {
   "cell_type": "code",
   "execution_count": null,
   "id": "5fafce17-d223-4d54-b9a8-a4bb9793cdf0",
   "metadata": {},
   "outputs": [],
   "source": []
  }
 ],
 "metadata": {
  "kernelspec": {
   "display_name": "Python 3 (ipykernel)",
   "language": "python",
   "name": "python3"
  },
  "language_info": {
   "codemirror_mode": {
    "name": "ipython",
    "version": 3
   },
   "file_extension": ".py",
   "mimetype": "text/x-python",
   "name": "python",
   "nbconvert_exporter": "python",
   "pygments_lexer": "ipython3",
   "version": "3.11.8"
  }
 },
 "nbformat": 4,
 "nbformat_minor": 5
}
