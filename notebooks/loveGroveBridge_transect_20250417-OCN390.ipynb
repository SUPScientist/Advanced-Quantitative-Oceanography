{
 "cells": [
  {
   "cell_type": "markdown",
   "id": "58dae215-95ae-46b7-bcc0-7a5a373e4297",
   "metadata": {},
   "source": [
    "# Smith and Burnt Mill Creeks Salinity Sections\n",
    "Goal: produce section plots using profiles from across a creek, river, or other section/transect.\n",
    "\n",
    "## Open in Colab\n",
    "[![Open In Colab](https://colab.research.google.com/assets/colab-badge.svg)](https://colab.research.google.com/github/SUPScientist/Advanced-Quantitative-Oceanography/blob/main/notebooks/loveGroveBridge_transect_20250417-OCN390.ipynb)"
   ]
  },
  {
   "cell_type": "code",
   "execution_count": 3,
   "id": "e4b4c532-08d2-47e3-950c-d7473b174711",
   "metadata": {
    "tags": []
   },
   "outputs": [],
   "source": [
    "import pandas as pd\n",
    "import numpy as np \n",
    "import os\n",
    "import matplotlib.pyplot as plt\n",
    "# import cmocean as cm\n",
    "\n",
    "from scipy.interpolate import griddata"
   ]
  },
  {
   "cell_type": "markdown",
   "id": "bdb1a960-2911-4fe1-a96c-be49fcf3a88c",
   "metadata": {},
   "source": [
    "# Find data in correct folder, see test file\n",
    "## How to navigate to data\n",
    "### Option 1:\n",
    "Run this notebook via Jupyter lab operating on your personal machine (e.g., laptop). Download Jupyter via Anaconda. Install any libraries indicated above that are not automatically downloaded (which will therefore throw errors when running the cell above). These can also be installed via Anaconda. \n",
    "\n",
    "See https://github.com/COAST-Lab/Tidal-Creek-Analysis/blob/main/loveGroveBridge_transect_20250417.ipynb for example using Option 1.\n",
    "\n",
    "### Option 2:\n",
    "Run this notebook via Google Colab. This is what I will do below. \n"
   ]
  },
  {
   "cell_type": "code",
   "execution_count": 6,
   "id": "fa29c458-fa5f-4f8a-8042-a5d21acd8ad5",
   "metadata": {
    "tags": []
   },
   "outputs": [
    {
     "ename": "ModuleNotFoundError",
     "evalue": "No module named 'google'",
     "output_type": "error",
     "traceback": [
      "\u001b[0;31m---------------------------------------------------------------------------\u001b[0m",
      "\u001b[0;31mModuleNotFoundError\u001b[0m                       Traceback (most recent call last)",
      "Cell \u001b[0;32mIn[6], line 10\u001b[0m\n\u001b[1;32m      1\u001b[0m \u001b[38;5;66;03m# First navigate to data\u001b[39;00m\n\u001b[1;32m      2\u001b[0m \u001b[38;5;66;03m# Option 1 (running in Jupyter lab as described above)\u001b[39;00m\n\u001b[1;32m      3\u001b[0m \u001b[38;5;66;03m# comment out (put hashtags in front) if using option 2\u001b[39;00m\n\u001b[0;32m   (...)\u001b[0m\n\u001b[1;32m      8\u001b[0m \n\u001b[1;32m      9\u001b[0m \u001b[38;5;66;03m# Option 2 (running in Google Colab)\u001b[39;00m\n\u001b[0;32m---> 10\u001b[0m \u001b[38;5;28;01mfrom\u001b[39;00m \u001b[38;5;21;01mgoogle\u001b[39;00m\u001b[38;5;21;01m.\u001b[39;00m\u001b[38;5;21;01mcolab\u001b[39;00m \u001b[38;5;28;01mimport\u001b[39;00m files\n\u001b[1;32m     11\u001b[0m myfile \u001b[38;5;241m=\u001b[39m files\u001b[38;5;241m.\u001b[39mupload()\n\u001b[1;32m     12\u001b[0m \u001b[38;5;28;01mimport\u001b[39;00m \u001b[38;5;21;01mio\u001b[39;00m\n",
      "\u001b[0;31mModuleNotFoundError\u001b[0m: No module named 'google'"
     ]
    }
   ],
   "source": [
    "# First navigate to data\n",
    "# Option 1 (running in Jupyter lab as described above)\n",
    "# comment out (put hashtags in front) if using option 2\n",
    "# uncomment (remove hashtags) if using option 1\n",
    "# folderpath = os.path.join('Data', 'Love Grove Bridge CastAway OCN 390')\n",
    "# filepath = os.path.join(folderpath, 'all casts lgb 31.3.25 (upcasts only).csv')\n",
    "# filepath\n",
    "\n",
    "# Option 2 (running in Google Colab)\n",
    "from google.colab import files\n",
    "myfile = files.upload()\n",
    "import io\n",
    "filepath = io.BytesIO(uploaded['Filename.csv'])"
   ]
  },
  {
   "cell_type": "code",
   "execution_count": 5,
   "id": "c6b1c627-5055-48c9-9f7f-2d11045d1025",
   "metadata": {
    "tags": []
   },
   "outputs": [
    {
     "ename": "NameError",
     "evalue": "name 'filepath' is not defined",
     "output_type": "error",
     "traceback": [
      "\u001b[0;31m---------------------------------------------------------------------------\u001b[0m",
      "\u001b[0;31mNameError\u001b[0m                                 Traceback (most recent call last)",
      "Cell \u001b[0;32mIn[5], line 2\u001b[0m\n\u001b[1;32m      1\u001b[0m \u001b[38;5;66;03m# Read in data and print out first few rows for quick examination\u001b[39;00m\n\u001b[0;32m----> 2\u001b[0m df_full \u001b[38;5;241m=\u001b[39m pd\u001b[38;5;241m.\u001b[39mread_csv(filepath, header \u001b[38;5;241m=\u001b[39m \u001b[38;5;241m0\u001b[39m)\n\u001b[1;32m      3\u001b[0m df_full\u001b[38;5;241m.\u001b[39mhead()\n",
      "\u001b[0;31mNameError\u001b[0m: name 'filepath' is not defined"
     ]
    }
   ],
   "source": [
    "# Read in data and print out first few rows for quick examination\n",
    "df_full = pd.read_csv(filepath, header = 0)\n",
    "df_full.head()"
   ]
  },
  {
   "cell_type": "code",
   "execution_count": null,
   "id": "cede6721-41c4-4cc1-8570-4b957d0728c4",
   "metadata": {
    "tags": []
   },
   "outputs": [],
   "source": [
    "# Plot casts\n",
    "fig, axs = plt.subplots(figsize = (10, 10))\n",
    "\n",
    "axs.plot(df_full['Salinity (PSU)'], df_full['Depth (m)'])\n",
    "\n",
    "axs.set_ylabel('Depth (m)')\n",
    "axs.set_xlabel('Salinity (PSU)')\n",
    "plt.gca().invert_yaxis() # Flip the y-axis\n",
    "\n",
    "figname = os.path.join('Figs-and-Animations', \"LGB_Profiles.png\")\n",
    "plt.savefig(figname, dpi = 300, transparent = True)"
   ]
  },
  {
   "cell_type": "code",
   "execution_count": null,
   "id": "3e89eb79-3320-4dde-a67a-c5a5a5bd4fa9",
   "metadata": {
    "tags": []
   },
   "outputs": [],
   "source": [
    "n_grid = 100\n",
    "\n",
    "salinity = df_full['Salinity (PSU)']\n",
    "distance = df_full['cast #']\n",
    "depth = df_full['Depth (m)']\n",
    "\n",
    "plotVar = salinity\n",
    "\n",
    "dist_vec_unique = np.linspace(np.min(distance), np.max(distance), n_grid) # just for gridding\n",
    "depth_vec_unique = np.linspace(np.min(depth), np.max(depth), n_grid) # just for gridding\n",
    "\n",
    "dist_grid, depth_grid = np.meshgrid(dist_vec_unique, depth_vec_unique)\n",
    "plotVar_grid = griddata((distance, depth), plotVar, (dist_grid, depth_grid), method = 'linear')"
   ]
  },
  {
   "cell_type": "code",
   "execution_count": null,
   "id": "fa0c6904-7718-4f27-ac29-650e2fdfa3a4",
   "metadata": {
    "tags": []
   },
   "outputs": [],
   "source": [
    "fig, axs = plt.subplots(figsize = (10, 10))\n",
    "# my_cmap = cm.cm.haline # use cmocean colormaps if installed; select for relevant parameter\n",
    "im = plt.contourf(dist_grid, depth_grid, plotVar_grid, levels = 40)#, cmap = my_cmap)#, levels = cvec, cmap=myCM, extend=\"both\"))\n",
    "\n",
    "sc = plt.scatter(distance, depth, c = 'black', s = 5, alpha = 1)\n",
    "#                cmap=myCM, alpha = 1, vmin=vmn, vmax=vmx)\n",
    "\n",
    "axs.set_ylabel('Depth (m)')\n",
    "axs.set_xlabel('Distance (contrived; roughly meters across bridge)')\n",
    "plt.gca().invert_yaxis() # Flip the y-axis\n",
    "# plt.gca().invert_xaxis() # Flip the x-axis for now, since Cape Fear River is W edge\n",
    "\n",
    "cbar = fig.colorbar(im)\n",
    "cbar.ax.set_ylabel('Salinity (PSU)')\n",
    "\n",
    "figname = os.path.join('Figs-and-Animations', \"LGB_transect.png\")\n",
    "plt.savefig(figname, dpi = 300, transparent = True)"
   ]
  },
  {
   "cell_type": "code",
   "execution_count": null,
   "id": "49a3f483-2ec0-47c5-82d1-c1901f3c47e7",
   "metadata": {},
   "outputs": [],
   "source": []
  }
 ],
 "metadata": {
  "kernelspec": {
   "display_name": "Python 3 (ipykernel)",
   "language": "python",
   "name": "python3"
  },
  "language_info": {
   "codemirror_mode": {
    "name": "ipython",
    "version": 3
   },
   "file_extension": ".py",
   "mimetype": "text/x-python",
   "name": "python",
   "nbconvert_exporter": "python",
   "pygments_lexer": "ipython3",
   "version": "3.11.7"
  }
 },
 "nbformat": 4,
 "nbformat_minor": 5
}
