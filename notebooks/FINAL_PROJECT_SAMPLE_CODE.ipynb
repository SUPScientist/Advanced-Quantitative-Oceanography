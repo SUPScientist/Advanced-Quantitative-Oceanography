{
 "cells": [
  {
   "cell_type": "markdown",
   "metadata": {
    "id": "_4dGP3QV_fLe",
    "tags": []
   },
   "source": [
    "# Some Sample Code Chunks for Final Project Analyses\n",
    "\n",
    "## Open in Colab\n",
    "[![Open In Colab](https://colab.research.google.com/assets/colab-badge.svg)](https://colab.research.google.com/github/SUPScientist/Advanced-Quantitative-Oceanography/blob/main/notebooks/FINAL_PROJECT_SAMPLE_CODE.ipynb)"
   ]
  },
  {
   "cell_type": "markdown",
   "metadata": {},
   "source": [
    "Many but not all of the likely modules"
   ]
  },
  {
   "cell_type": "code",
   "execution_count": 1,
   "metadata": {},
   "outputs": [],
   "source": [
    "import numpy as np\n",
    "import pandas as pd\n",
    "import matplotlib.pyplot as plt\n",
    "import xarray as xr"
   ]
  },
  {
   "cell_type": "markdown",
   "metadata": {},
   "source": [
    "## Load data into Colab\n",
    "There are several ways to get the data that you want to analyze into Colab. This article has some suggestions for CSVs: https://towardsdatascience.com/3-ways-to-load-csv-files-into-colab-7c14fcbdcb92. "
   ]
  },
  {
   "cell_type": "markdown",
   "metadata": {},
   "source": [
    "### OPTION 1\n",
    "- Change `copied_raw_GH_link` below to the link to your data.\n",
    "- After running the cell, the data should be stored in the DataFrame named `df1`\n",
    "- If output from `df1.head()` looks like the first five lines of your data, you're in business."
   ]
  },
  {
   "cell_type": "code",
   "execution_count": 2,
   "metadata": {},
   "outputs": [
    {
     "data": {
      "text/html": [
       "<div>\n",
       "<style scoped>\n",
       "    .dataframe tbody tr th:only-of-type {\n",
       "        vertical-align: middle;\n",
       "    }\n",
       "\n",
       "    .dataframe tbody tr th {\n",
       "        vertical-align: top;\n",
       "    }\n",
       "\n",
       "    .dataframe thead th {\n",
       "        text-align: right;\n",
       "    }\n",
       "</style>\n",
       "<table border=\"1\" class=\"dataframe\">\n",
       "  <thead>\n",
       "    <tr style=\"text-align: right;\">\n",
       "      <th></th>\n",
       "      <th>Date (MM/DD/YYYY)</th>\n",
       "      <th>Time (HH:mm:ss)</th>\n",
       "      <th>Time (Fract. Sec)</th>\n",
       "      <th>Site Name</th>\n",
       "      <th>Cond µS/cm</th>\n",
       "      <th>Depth m</th>\n",
       "      <th>nLF Cond µS/cm</th>\n",
       "      <th>ODO % sat</th>\n",
       "      <th>ODO % CB</th>\n",
       "      <th>ODO mg/L</th>\n",
       "      <th>...</th>\n",
       "      <th>pH</th>\n",
       "      <th>pH mV</th>\n",
       "      <th>Temp °C</th>\n",
       "      <th>Vertical Position m</th>\n",
       "      <th>GPS Latitude °</th>\n",
       "      <th>GPS Longitude °</th>\n",
       "      <th>Altitude m</th>\n",
       "      <th>Battery V</th>\n",
       "      <th>Cable Pwr V</th>\n",
       "      <th>Barometer mmHg</th>\n",
       "    </tr>\n",
       "  </thead>\n",
       "  <tbody>\n",
       "    <tr>\n",
       "      <th>0</th>\n",
       "      <td>7/16/2022</td>\n",
       "      <td>14:05:41</td>\n",
       "      <td>0.0</td>\n",
       "      <td>&lt;None&gt;</td>\n",
       "      <td>60362.5</td>\n",
       "      <td>0.286</td>\n",
       "      <td>56573.5</td>\n",
       "      <td>85.2</td>\n",
       "      <td>84.8</td>\n",
       "      <td>5.39</td>\n",
       "      <td>...</td>\n",
       "      <td>8.4</td>\n",
       "      <td>-197.2</td>\n",
       "      <td>28.143</td>\n",
       "      <td>0.290</td>\n",
       "      <td>34.20412</td>\n",
       "      <td>-77.79978</td>\n",
       "      <td>-14.4</td>\n",
       "      <td>5.11</td>\n",
       "      <td>12.1</td>\n",
       "      <td>765.3</td>\n",
       "    </tr>\n",
       "    <tr>\n",
       "      <th>1</th>\n",
       "      <td>7/16/2022</td>\n",
       "      <td>14:05:42</td>\n",
       "      <td>0.0</td>\n",
       "      <td>&lt;None&gt;</td>\n",
       "      <td>60358.0</td>\n",
       "      <td>0.286</td>\n",
       "      <td>56572.3</td>\n",
       "      <td>85.2</td>\n",
       "      <td>84.8</td>\n",
       "      <td>5.39</td>\n",
       "      <td>...</td>\n",
       "      <td>8.4</td>\n",
       "      <td>-197.2</td>\n",
       "      <td>28.141</td>\n",
       "      <td>0.303</td>\n",
       "      <td>34.20411</td>\n",
       "      <td>-77.79977</td>\n",
       "      <td>-11.3</td>\n",
       "      <td>5.11</td>\n",
       "      <td>12.1</td>\n",
       "      <td>765.2</td>\n",
       "    </tr>\n",
       "    <tr>\n",
       "      <th>2</th>\n",
       "      <td>7/16/2022</td>\n",
       "      <td>14:05:43</td>\n",
       "      <td>0.0</td>\n",
       "      <td>&lt;None&gt;</td>\n",
       "      <td>60353.6</td>\n",
       "      <td>0.287</td>\n",
       "      <td>56571.3</td>\n",
       "      <td>85.1</td>\n",
       "      <td>84.7</td>\n",
       "      <td>5.39</td>\n",
       "      <td>...</td>\n",
       "      <td>8.4</td>\n",
       "      <td>-197.2</td>\n",
       "      <td>28.138</td>\n",
       "      <td>0.286</td>\n",
       "      <td>34.20411</td>\n",
       "      <td>-77.79974</td>\n",
       "      <td>-8.0</td>\n",
       "      <td>5.11</td>\n",
       "      <td>12.1</td>\n",
       "      <td>765.3</td>\n",
       "    </tr>\n",
       "    <tr>\n",
       "      <th>3</th>\n",
       "      <td>7/16/2022</td>\n",
       "      <td>14:05:44</td>\n",
       "      <td>0.0</td>\n",
       "      <td>&lt;None&gt;</td>\n",
       "      <td>60349.2</td>\n",
       "      <td>0.287</td>\n",
       "      <td>56571.1</td>\n",
       "      <td>85.1</td>\n",
       "      <td>84.7</td>\n",
       "      <td>5.38</td>\n",
       "      <td>...</td>\n",
       "      <td>8.4</td>\n",
       "      <td>-197.2</td>\n",
       "      <td>28.135</td>\n",
       "      <td>0.288</td>\n",
       "      <td>34.20412</td>\n",
       "      <td>-77.79974</td>\n",
       "      <td>-10.9</td>\n",
       "      <td>5.11</td>\n",
       "      <td>12.1</td>\n",
       "      <td>765.2</td>\n",
       "    </tr>\n",
       "    <tr>\n",
       "      <th>4</th>\n",
       "      <td>7/16/2022</td>\n",
       "      <td>14:05:45</td>\n",
       "      <td>0.0</td>\n",
       "      <td>&lt;None&gt;</td>\n",
       "      <td>60345.0</td>\n",
       "      <td>0.287</td>\n",
       "      <td>56570.5</td>\n",
       "      <td>85.0</td>\n",
       "      <td>84.6</td>\n",
       "      <td>5.38</td>\n",
       "      <td>...</td>\n",
       "      <td>8.4</td>\n",
       "      <td>-197.2</td>\n",
       "      <td>28.131</td>\n",
       "      <td>0.311</td>\n",
       "      <td>34.20414</td>\n",
       "      <td>-77.79976</td>\n",
       "      <td>-12.7</td>\n",
       "      <td>5.11</td>\n",
       "      <td>12.1</td>\n",
       "      <td>765.4</td>\n",
       "    </tr>\n",
       "  </tbody>\n",
       "</table>\n",
       "<p>5 rows × 26 columns</p>\n",
       "</div>"
      ],
      "text/plain": [
       "  Date (MM/DD/YYYY) Time (HH:mm:ss)  Time (Fract. Sec) Site Name  Cond µS/cm  \\\n",
       "0         7/16/2022        14:05:41                0.0    <None>     60362.5   \n",
       "1         7/16/2022        14:05:42                0.0    <None>     60358.0   \n",
       "2         7/16/2022        14:05:43                0.0    <None>     60353.6   \n",
       "3         7/16/2022        14:05:44                0.0    <None>     60349.2   \n",
       "4         7/16/2022        14:05:45                0.0    <None>     60345.0   \n",
       "\n",
       "   Depth m  nLF Cond µS/cm  ODO % sat  ODO % CB  ODO mg/L  ...   pH  pH mV  \\\n",
       "0    0.286         56573.5       85.2      84.8      5.39  ...  8.4 -197.2   \n",
       "1    0.286         56572.3       85.2      84.8      5.39  ...  8.4 -197.2   \n",
       "2    0.287         56571.3       85.1      84.7      5.39  ...  8.4 -197.2   \n",
       "3    0.287         56571.1       85.1      84.7      5.38  ...  8.4 -197.2   \n",
       "4    0.287         56570.5       85.0      84.6      5.38  ...  8.4 -197.2   \n",
       "\n",
       "   Temp °C  Vertical Position m  GPS Latitude °  GPS Longitude °  Altitude m  \\\n",
       "0   28.143                0.290        34.20412        -77.79978       -14.4   \n",
       "1   28.141                0.303        34.20411        -77.79977       -11.3   \n",
       "2   28.138                0.286        34.20411        -77.79974        -8.0   \n",
       "3   28.135                0.288        34.20412        -77.79974       -10.9   \n",
       "4   28.131                0.311        34.20414        -77.79976       -12.7   \n",
       "\n",
       "   Battery V  Cable Pwr V  Barometer mmHg  \n",
       "0       5.11         12.1           765.3  \n",
       "1       5.11         12.1           765.2  \n",
       "2       5.11         12.1           765.3  \n",
       "3       5.11         12.1           765.2  \n",
       "4       5.11         12.1           765.4  \n",
       "\n",
       "[5 rows x 26 columns]"
      ]
     },
     "execution_count": 2,
     "metadata": {},
     "output_type": "execute_result"
    }
   ],
   "source": [
    "url = 'copied_raw_GH_link' # use your own data link, example in next line\n",
    "url = 'https://raw.githubusercontent.com/SUPScientist/Advanced-Quantitative-Oceanography/main/data/EXO2%20data%20sample.csv'\n",
    "df1 = pd.read_csv(url)\n",
    "# Dataset is now stored in a Pandas Dataframe\n",
    "df1.head()"
   ]
  },
  {
   "cell_type": "markdown",
   "metadata": {},
   "source": [
    "### OPTION 2\n",
    "Do this instead of Option 1, not in addition to!\n",
    "- Save your data in the Drive of your same Google account from which you are running Google Colab (this script, assuming you're in Colab)\n",
    "- Run the next cell and navigate to the file\n",
    "- Run the cell two down and, if it worked, the output of `df2.head()` should be the first five lines of your data file\n",
    "- Use `df2` rather than `df1` in the subsequent code"
   ]
  },
  {
   "cell_type": "code",
   "execution_count": 3,
   "metadata": {},
   "outputs": [],
   "source": [
    "# Uncomment next two lines if using option 2\n",
    "\n",
    "# from google.colab import files\n",
    "# uploaded = files.upload()"
   ]
  },
  {
   "cell_type": "code",
   "execution_count": 4,
   "metadata": {},
   "outputs": [],
   "source": [
    "# Uncomment next three lines if using option 2\n",
    "\n",
    "# import io\n",
    "# df2 = pd.read_csv(io.BytesIO(uploaded['Filename.csv']))\n",
    "# df2.head()"
   ]
  },
  {
   "cell_type": "markdown",
   "metadata": {},
   "source": [
    "## Example idea and plot\n",
    "Let's say you want to plot pH vs. oxygen to see the relationship. First, I recommend that you print out what the exact column names are so that you have them for easy access. "
   ]
  },
  {
   "cell_type": "code",
   "execution_count": 5,
   "metadata": {},
   "outputs": [
    {
     "data": {
      "text/plain": [
       "Index(['Date (MM/DD/YYYY)', 'Time (HH:mm:ss)', 'Time (Fract. Sec)',\n",
       "       'Site Name', 'Cond µS/cm', 'Depth m', 'nLF Cond µS/cm', 'ODO % sat',\n",
       "       'ODO % CB', 'ODO mg/L', 'Pressure psi a', 'Sal psu', 'SpCond µS/cm',\n",
       "       'TDS mg/L', 'Turbidity FNU', 'TSS mg/L', 'pH', 'pH mV', 'Temp °C',\n",
       "       'Vertical Position m', 'GPS Latitude °', 'GPS Longitude °',\n",
       "       'Altitude m', 'Battery V', 'Cable Pwr V', 'Barometer mmHg'],\n",
       "      dtype='object')"
      ]
     },
     "execution_count": 5,
     "metadata": {},
     "output_type": "execute_result"
    }
   ],
   "source": [
    "df1.columns"
   ]
  },
  {
   "cell_type": "markdown",
   "metadata": {},
   "source": [
    "Now that you know what columns you want to plot, plot the data!"
   ]
  },
  {
   "cell_type": "code",
   "execution_count": 6,
   "metadata": {},
   "outputs": [
    {
     "data": {
      "text/plain": [
       "Text(0.5, 1.0, 'Multiparameter water quality data from Intracoastal Waterway')"
      ]
     },
     "execution_count": 6,
     "metadata": {},
     "output_type": "execute_result"
    },
    {
     "data": {
      "image/png": "[encoded data removed]",
      "text/plain": [
       "<Figure size 640x480 with 1 Axes>"
      ]
     },
     "metadata": {},
     "output_type": "display_data"
    }
   ],
   "source": [
    "# Create the plot\n",
    "fig, axs = plt.subplots()\n",
    "\n",
    "# Add data according to your desired variables\n",
    "axs.plot(df1['ODO % sat'], df1['pH'], 'ko')\n",
    "\n",
    "# Add an x-axis label with name and units\n",
    "axs.set_xlabel('Dissolved oxygen (% saturation)') \n",
    "\n",
    "# Add a y-axis label with name and units\n",
    "axs.set_xlabel('pH (unitless)')\n",
    "\n",
    "# Add a title\n",
    "axs.set_title('Multiparameter water quality data from Intracoastal Waterway')"
   ]
  },
  {
   "cell_type": "markdown",
   "metadata": {},
   "source": [
    "## Voila, there is your graph\n",
    "Change whatever you need to change to make it tell the story you are trying to tell. You will need to change things such as the data source (by changing the url), the parameters you are plotting, and the labels/title on your graph. "
   ]
  },
  {
   "cell_type": "code",
   "execution_count": null,
   "metadata": {},
   "outputs": [],
   "source": []
  }
 ],
 "metadata": {
  "colab": {
   "provenance": []
  },
  "kernelspec": {
   "display_name": "Python 3 (ipykernel)",
   "language": "python",
   "name": "python3"
  },
  "language_info": {
   "codemirror_mode": {
    "name": "ipython",
    "version": 3
   },
   "file_extension": ".py",
   "mimetype": "text/x-python",
   "name": "python",
   "nbconvert_exporter": "python",
   "pygments_lexer": "ipython3",
   "version": "3.8.13"
  }
 },
 "nbformat": 4,
 "nbformat_minor": 4
}
