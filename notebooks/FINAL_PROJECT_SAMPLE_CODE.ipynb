{
 "cells": [
  {
   "cell_type": "markdown",
   "metadata": {
    "id": "_4dGP3QV_fLe",
    "tags": []
   },
   "source": [
    "# Some Sample Code Chunks for Final Project Analyses\n",
    "\n",
    "## Open in Colab\n",
    "[![Open In Colab](https://colab.research.google.com/assets/colab-badge.svg)](https://colab.research.google.com/github/SUPScientist/Advanced-Quantitative-Oceanography/blob/main/notebooks/FINAL_PROJECT_SAMPLE_CODE.ipynb)"
   ]
  },
  {
   "cell_type": "markdown",
   "metadata": {},
   "source": [
    "Many but not all of the likely modules"
   ]
  },
  {
   "cell_type": "code",
   "execution_count": 9,
   "metadata": {},
   "outputs": [],
   "source": [
    "import numpy as np\n",
    "import pandas as pd\n",
    "import matplotlib.pyplot as plt\n",
    "import xarray as xr"
   ]
  },
  {
   "cell_type": "markdown",
   "metadata": {},
   "source": [
    "## Load data into Colab\n",
    "There are several ways to get the data that you want to analyze into Colab. This article has some suggestions for CSVs: https://towardsdatascience.com/3-ways-to-load-csv-files-into-colab-7c14fcbdcb92. "
   ]
  },
  {
   "cell_type": "markdown",
   "metadata": {},
   "source": [
    "### OPTION 1\n",
    "- Change `copied_raw_GH_link` below to the link to your data.\n",
    "- After running the cell, the data should be stored in the DataFrame named `df1`\n",
    "- If output from `df1.head()` looks like the first five lines of your data, you're in business."
   ]
  },
  {
   "cell_type": "code",
   "execution_count": null,
   "metadata": {},
   "outputs": [],
   "source": [
    "url = 'copied_raw_GH_link' # use your own data link, example in next line\n",
    "url = 'https://raw.githubusercontent.com/SUPScientist/Advanced-Quantitative-Oceanography/main/data/EXO2%20data%20sample.csv'\n",
    "df1 = pd.read_csv(url)\n",
    "# Dataset is now stored in a Pandas Dataframe\n",
    "df1.head()"
   ]
  },
  {
   "cell_type": "markdown",
   "metadata": {},
   "source": [
    "### OPTION 2\n",
    "Do this instead of Option 1, not in addition to!\n",
    "- Save your data in the Drive of your same Google account from which you are running Google Colab (this script, assuming you're in Colab)\n",
    "- Run the next cell and navigate to the file\n",
    "- Run the cell two down and, if it worked, the output of `df2.head()` should be the first five lines of your data file\n",
    "- Use `df2` rather than `df1` in the subsequent code"
   ]
  },
  {
   "cell_type": "code",
   "execution_count": null,
   "metadata": {},
   "outputs": [],
   "source": [
    "from google.colab import files\n",
    "uploaded = files.upload()"
   ]
  },
  {
   "cell_type": "code",
   "execution_count": null,
   "metadata": {},
   "outputs": [],
   "source": [
    "import io\n",
    "df2 = pd.read_csv(io.BytesIO(uploaded['Filename.csv']))\n",
    "# Dataset is now stored in a Pandas Dataframe"
   ]
  },
  {
   "cell_type": "markdown",
   "metadata": {},
   "source": [
    "## Example idea and plot\n",
    "Let's say you want to plot pH vs. oxygen to see the relationship. First, I recommend that you print out what the exact column names are so that you have them for easy access. "
   ]
  },
  {
   "cell_type": "code",
   "execution_count": null,
   "metadata": {},
   "outputs": [],
   "source": [
    "df1.columns"
   ]
  },
  {
   "cell_type": "markdown",
   "metadata": {},
   "source": [
    "Now that you know what columns you want to plot, plot the data!"
   ]
  },
  {
   "cell_type": "code",
   "execution_count": null,
   "metadata": {},
   "outputs": [],
   "source": [
    "# Create the plot\n",
    "fig, axs = plt.subplots()\n",
    "\n",
    "# Add data according to your desired variables\n",
    "axs.plot(df1['ODO % sat'], df1['pH'])\n",
    "\n",
    "# Add an x-axis label with name and units\n",
    "axs.set_xlabel('Dissolved oxygen (% saturation)') \n",
    "\n",
    "# Add a y-axis label with name and units\n",
    "axs.set_xlabel('pH (unitless)')"
   ]
  },
  {
   "cell_type": "code",
   "execution_count": null,
   "metadata": {},
   "outputs": [],
   "source": []
  }
 ],
 "metadata": {
  "colab": {
   "provenance": []
  },
  "kernelspec": {
   "display_name": "Python 3 (ipykernel)",
   "language": "python",
   "name": "python3"
  },
  "language_info": {
   "codemirror_mode": {
    "name": "ipython",
    "version": 3
   },
   "file_extension": ".py",
   "mimetype": "text/x-python",
   "name": "python",
   "nbconvert_exporter": "python",
   "pygments_lexer": "ipython3",
   "version": "3.8.13"
  }
 },
 "nbformat": 4,
 "nbformat_minor": 4
}
