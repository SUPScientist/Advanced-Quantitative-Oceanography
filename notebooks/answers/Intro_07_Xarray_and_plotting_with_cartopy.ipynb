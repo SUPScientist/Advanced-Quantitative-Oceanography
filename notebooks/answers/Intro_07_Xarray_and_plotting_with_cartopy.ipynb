{
 "cells": [
  {
   "cell_type": "markdown",
   "metadata": {},
   "source": [
    "# Plotting with [cartopy](https://scitools.org.uk/cartopy/docs/latest/)\n",
    "\n",
    "From Cartopy website:\n",
    "\n",
    "* Cartopy is a Python package designed for geospatial data processing in order to produce maps and other geospatial data analyses.\n",
    "\n",
    "* Cartopy makes use of the powerful PROJ.4, NumPy and Shapely libraries and includes a programmatic interface built on top of Matplotlib for the creation of publication quality maps.\n",
    "\n",
    "* Key features of cartopy are its object oriented projection definitions, and its ability to transform points, lines, vectors, polygons and images between those projections.\n",
    "\n",
    "* You will find cartopy especially useful for large area / small scale data, where Cartesian assumptions of spherical data traditionally break down. If you’ve ever experienced a singularity at the pole or a cut-off at the dateline, it is likely you will appreciate cartopy’s unique features!\n"
   ]
  },
  {
   "cell_type": "code",
   "execution_count": null,
   "metadata": {},
   "outputs": [],
   "source": [
    "import numpy as np\n",
    "import matplotlib.pyplot as plt\n",
    "import xarray as xr\n",
    "import cartopy.crs as ccrs"
   ]
  },
  {
   "cell_type": "markdown",
   "metadata": {},
   "source": [
    "# Read in data using xarray\n",
    "- Read in the Saildrone USV file either from a local disc `xr.open_dataset()\n",
    "- change latitude and longitude to lat and lon `.rename({'longitude':'lon','latitude':'lat'})`\n"
   ]
  },
  {
   "cell_type": "code",
   "execution_count": null,
   "metadata": {},
   "outputs": [],
   "source": [
    "file = '../../data/saildrone-gen_5-antarctica_circumnavigation_2019-sd1020-20190119T040000-20190803T043000-1440_minutes-v1.1564857794963.nc'\n",
    "\n",
    "ds_usv = xr.open_dataset(file).rename({'longitude':'lon','latitude':'lat'})\n"
   ]
  },
  {
   "cell_type": "markdown",
   "metadata": {},
   "source": [
    "# Open the dataset, mask land, plot result\n",
    "*`xr.open_dataset`\n",
    "* use `.where` to mask values equal to 1"
   ]
  },
  {
   "cell_type": "code",
   "execution_count": null,
   "metadata": {},
   "outputs": [],
   "source": [
    "#If you are offline use the first url\n",
    "#url = '../data/20111101120000-CMC-L4_GHRSST-SSTfnd-CMC0.2deg-GLOB-v02.0-fv02.0.nc'\n",
    "url = 'https://podaac-opendap.jpl.nasa.gov/opendap/allData/ghrsst/data/GDS2/L4/GLOB/CMC/CMC0.2deg/v2/2011/305/20111101120000-CMC-L4_GHRSST-SSTfnd-CMC0.2deg-GLOB-v02.0-fv02.0.nc'\n",
    "\n",
    "ds_sst = xr.open_dataset(url)\n",
    "\n",
    "ds_sst = ds_sst.where(ds_sst.mask==1)\n",
    "\n"
   ]
  },
  {
   "cell_type": "markdown",
   "metadata": {},
   "source": [
    "\n",
    "## explore the in situ data and quickly plot using cartopy\n",
    "\n",
    "* first set up the axis with the projection you want: https://scitools.org.uk/cartopy/docs/latest/crs/projections.html\n",
    "\n",
    "* plot to that axis and tell the projection that your data is in\n",
    "* set a background image  `ax.stock_img()`\n",
    "* draw coastlines `ax.coastlines(resolution='50m')`\n",
    "* add a colorbary and label it `cax = plt.colorbar(cs1)`  `cax.set_label('SST (K)')`"
   ]
  },
  {
   "cell_type": "code",
   "execution_count": null,
   "metadata": {
    "scrolled": true
   },
   "outputs": [],
   "source": [
    "#for polar data, plot temperature\n",
    "ax = plt.axes(projection=ccrs.SouthPolarStereo())\n",
    "\n",
    "(ds_sst.analysed_sst-273.15).plot(ax=ax, \n",
    "                                  transform=ccrs.PlateCarree(),\n",
    "                                  vmin=0,\n",
    "                                  vmax=12)\n",
    "\n",
    "cs1 = ax.scatter(ds_usv.lon, ds_usv.lat, \n",
    "                 transform=ccrs.PlateCarree(),\n",
    "                 s=10.0, \n",
    "                 c=ds_usv.TEMP_CTD_MEAN, \n",
    "                 edgecolor='none', \n",
    "                 cmap='jet',\n",
    "                 vmin=0,vmax=12)\n",
    "\n",
    "ax.set_extent([-180, 180, -90, -45], crs=ccrs.PlateCarree())\n",
    "\n",
    "ax.stock_img()\n",
    "ax.coastlines(resolution='50m')\n",
    "cax = plt.colorbar(cs1)\n",
    "cax.set_label('SST (K)')\n"
   ]
  },
  {
   "cell_type": "markdown",
   "metadata": {},
   "source": [
    "# Exercise!"
   ]
  },
  {
   "cell_type": "code",
   "execution_count": null,
   "metadata": {},
   "outputs": [],
   "source": [
    "#now you try to plot plot salinity  ds_usv.SAL_MEAN\n",
    "#for polar data, plot temperature\n",
    "ax = plt.axes(projection=ccrs.SouthPolarStereo())\n",
    "\n",
    "(ds_sst.analysed_sst-273.15).plot(ax=ax, \n",
    "                                  transform=ccrs.PlateCarree(),\n",
    "                                  vmin=0,\n",
    "                                  vmax=12)\n",
    "\n",
    "cs1 = ax.scatter(ds_usv.lon, ds_usv.lat, \n",
    "                 transform=ccrs.PlateCarree(),\n",
    "                 s=10.0, \n",
    "                 c=ds_usv.SAL_MEAN, \n",
    "                 edgecolor='none', \n",
    "                 cmap='jet',\n",
    "                 vmin=33,vmax=35)\n",
    "\n",
    "ax.set_extent([-180, 180, -90, -45], crs=ccrs.PlateCarree())\n",
    "\n",
    "ax.stock_img()\n",
    "ax.coastlines(resolution='50m')\n",
    "cax = plt.colorbar(cs1)\n",
    "cax.set_label('Salinity (psu)')\n",
    "\n",
    "\n"
   ]
  },
  {
   "cell_type": "markdown",
   "metadata": {},
   "source": [
    "# Let's plot some data off of California\n",
    "* `.rename({'longitude':'lon','latitude':'lat'})`"
   ]
  },
  {
   "cell_type": "code",
   "execution_count": null,
   "metadata": {},
   "outputs": [],
   "source": [
    "#use the first URL if you are offline\n",
    "#url = '../data/saildrone-gen_4-baja_2018-sd1002-20180411T180000-20180611T055959-1_minutes-v1.nc'\n",
    "\n",
    "url = 'https://podaac-opendap.jpl.nasa.gov/opendap/hyrax/allData/insitu/L2/saildrone/Baja/saildrone-gen_4-baja_2018-sd1002-20180411T180000-20180611T055959-1_minutes-v1.nc'\n",
    "\n",
    "ds_usv = xr.open_dataset(url).rename({'longitude':'lon','latitude':'lat'})\n"
   ]
  },
  {
   "cell_type": "markdown",
   "metadata": {},
   "source": [
    "# Exercise!\n",
    "* for NON polar ds_usv data, use `ccrs.PlateCarree()` as your projection"
   ]
  },
  {
   "cell_type": "code",
   "execution_count": null,
   "metadata": {},
   "outputs": [],
   "source": [
    "ax = plt.axes(projection=ccrs.PlateCarree())\n",
    "\n",
    "(ds_sst.analysed_sst-273.15).plot(ax=ax, \n",
    "                                  transform=ccrs.PlateCarree(),\n",
    "                                  vmin=15,\n",
    "                                  vmax=30)\n",
    "\n",
    "cs1 = ax.scatter(ds_usv.lon, ds_usv.lat, \n",
    "                 transform=ccrs.PlateCarree(),\n",
    "                 s=10.0, \n",
    "                 c=ds_usv.TEMP_CTD_MEAN, \n",
    "                 edgecolor='none', \n",
    "                 cmap='jet',\n",
    "                 vmin=15,\n",
    "                 vmax=30)\n",
    "\n",
    "ax.set_extent([-130, -110, 20, 40], crs=ccrs.PlateCarree())\n",
    "\n",
    "ax.stock_img()\n",
    "ax.coastlines(resolution='50m')\n",
    "cax = plt.colorbar(cs1)\n",
    "cax.set_label('SST (K)')\n",
    "\n"
   ]
  },
  {
   "cell_type": "code",
   "execution_count": null,
   "metadata": {},
   "outputs": [],
   "source": [
    "# now add an extent to your figure\n",
    "ax = plt.axes(projection=ccrs.PlateCarree())\n",
    "\n",
    "(ds_sst.analysed_sst-273.15).plot(ax=ax, \n",
    "                                  transform=ccrs.PlateCarree(),\n",
    "                                  vmin=12,\n",
    "                                  vmax=23)\n",
    "\n",
    "cs1 = ax.scatter(ds_usv.lon, ds_usv.lat, \n",
    "                 transform=ccrs.PlateCarree(),\n",
    "                 s=10.0, \n",
    "                 c=ds_usv.TEMP_CTD_MEAN, \n",
    "                 edgecolor='none', \n",
    "                 vmin=12,\n",
    "                 vmax=23)\n",
    "\n",
    "\n",
    "ax.stock_img()\n",
    "ax.coastlines(resolution='50m')\n",
    "cax = plt.colorbar(cs1)\n",
    "cax.set_label('SST (K)')\n",
    "\n",
    "\n",
    "lonmin,lonmax = ds_usv.lon.min().data-2,ds_usv.lon.max().data+2\n",
    "latmin,latmax = ds_usv.lat.min().data-2,ds_usv.lat.max().data+2\n",
    "ax.set_extent([lonmin,lonmax,latmin,latmax], crs=ccrs.PlateCarree())\n"
   ]
  },
  {
   "cell_type": "code",
   "execution_count": null,
   "metadata": {},
   "outputs": [],
   "source": []
  }
 ],
 "metadata": {
  "kernelspec": {
   "display_name": "Python 3",
   "language": "python",
   "name": "python3"
  },
  "language_info": {
   "codemirror_mode": {
    "name": "ipython",
    "version": 3
   },
   "file_extension": ".py",
   "mimetype": "text/x-python",
   "name": "python",
   "nbconvert_exporter": "python",
   "pygments_lexer": "ipython3",
   "version": "3.7.1"
  }
 },
 "nbformat": 4,
 "nbformat_minor": 1
}
