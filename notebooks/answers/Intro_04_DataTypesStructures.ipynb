{
 "cells": [
  {
   "cell_type": "markdown",
   "metadata": {
    "slideshow": {
     "slide_type": "slide"
    }
   },
   "source": [
    "# Data types & Structures"
   ]
  },
  {
   "cell_type": "markdown",
   "metadata": {
    "slideshow": {
     "slide_type": "fragment"
    }
   },
   "source": [
    "### A great advatage of `Python` is the type of data it can handle & combine\n",
    "Python has been widely used to handle internet related operations, which means lots and lots of text and numbers. combined!"
   ]
  },
  {
   "cell_type": "markdown",
   "metadata": {},
   "source": [
    "***"
   ]
  },
  {
   "cell_type": "markdown",
   "metadata": {
    "slideshow": {
     "slide_type": "slide"
    }
   },
   "source": [
    "## Let's start with the basic types!\n",
    "### Like other programing languages, `Python` data types include integers, floats, complex, and strings & boolean"
   ]
  },
  {
   "cell_type": "markdown",
   "metadata": {},
   "source": [
    "<div class=\"alert alert-block alert-info\">\n",
    "    In the next cell, assing a float value to <b>x</b> and execute the cell\n",
    "</div>"
   ]
  },
  {
   "cell_type": "code",
   "execution_count": 1,
   "metadata": {
    "slideshow": {
     "slide_type": "fragment"
    }
   },
   "outputs": [
    {
     "name": "stdout",
     "output_type": "stream",
     "text": [
      "23.16\n"
     ]
    }
   ],
   "source": [
    "lat = 23.16\n",
    "print(lat)"
   ]
  },
  {
   "cell_type": "markdown",
   "metadata": {},
   "source": [
    "<div class=\"alert alert-block alert-info\">\n",
    "    Assing an integer value to <b>y</b> and execute the cell\n",
    "</div>"
   ]
  },
  {
   "cell_type": "code",
   "execution_count": 2,
   "metadata": {},
   "outputs": [
    {
     "name": "stdout",
     "output_type": "stream",
     "text": [
      "5 115.8\n"
     ]
    }
   ],
   "source": [
    "step = 5\n",
    "print(step, lat*step)"
   ]
  },
  {
   "cell_type": "markdown",
   "metadata": {},
   "source": [
    "### Complex values are identified by a `j` at the end\n",
    "<div class=\"alert alert-block alert-info\">\n",
    "    Assing a complex value to <b>z</b> and execute the cell\n",
    "</div>"
   ]
  },
  {
   "cell_type": "code",
   "execution_count": 3,
   "metadata": {},
   "outputs": [
    {
     "name": "stdout",
     "output_type": "stream",
     "text": [
      "7j <class 'complex'>\n"
     ]
    }
   ],
   "source": [
    "z = 7j\n",
    "print(z, type(z))"
   ]
  },
  {
   "cell_type": "markdown",
   "metadata": {},
   "source": [
    "### Variables can be reassigned to other types anytime\n",
    "<div class=\"alert alert-block alert-info\">\n",
    "    Execute the next cell\n",
    "</div>"
   ]
  },
  {
   "cell_type": "code",
   "execution_count": 4,
   "metadata": {},
   "outputs": [
    {
     "name": "stdout",
     "output_type": "stream",
     "text": [
      "Latitude\n",
      "True\n"
     ]
    }
   ],
   "source": [
    "lat = 'Latitude'  \n",
    "print(lat)\n",
    "step = True\n",
    "print(step)"
   ]
  },
  {
   "cell_type": "markdown",
   "metadata": {},
   "source": [
    "<div class=\"alert alert-block alert-info\">\n",
    "    Define your own string and boolean variables and print their type in the next cell\n",
    "</div>"
   ]
  },
  {
   "cell_type": "code",
   "execution_count": 7,
   "metadata": {},
   "outputs": [
    {
     "name": "stdout",
     "output_type": "stream",
     "text": [
      "<class 'str'> <class 'bool'>\n"
     ]
    }
   ],
   "source": [
    "meridional = 'v'\n",
    "allvalues = False\n",
    "print(type(meridional), type(allvalues))"
   ]
  },
  {
   "cell_type": "markdown",
   "metadata": {
    "slideshow": {
     "slide_type": "fragment"
    }
   },
   "source": [
    "## One of the best types: datetime!\n",
    "<div class=\"alert alert-block alert-info\">\n",
    "    - Execute the code in the next cell to define two datetime variables: <b>today1</b> & <b>today2</b>\n",
    "</div>"
   ]
  },
  {
   "cell_type": "code",
   "execution_count": 8,
   "metadata": {
    "slideshow": {
     "slide_type": "fragment"
    }
   },
   "outputs": [],
   "source": [
    "from datetime import date # call date function inside the datetime package\n",
    "today1 = date.today()\n",
    "from datetime import datetime # call datetime function inside the datetime package\n",
    "today2 = datetime.now()"
   ]
  },
  {
   "cell_type": "markdown",
   "metadata": {},
   "source": [
    "<div class=\"alert alert-block alert-info\">\n",
    "    - Now print both variables\n",
    "    <br>\n",
    "    - Try printing <b>today1.month</b>\n",
    "    <br>\n",
    "    - Try printing the following <b>today2.strftime('%c')</b>\n",
    "    <br>\n",
    "    - Now print the type of one of your date variables\n",
    "</div> \n",
    "<br>Note that the use <b>.</b> after a variable. This refers to a method of the variable or, as Python refers to, the object"
   ]
  },
  {
   "cell_type": "code",
   "execution_count": 10,
   "metadata": {},
   "outputs": [
    {
     "name": "stdout",
     "output_type": "stream",
     "text": [
      "2019-05-29\n",
      "2019-05-29 13:26:32.577318\n",
      "Wed May 29 13:26:32 2019\n",
      "<class 'datetime.date'> <class 'datetime.datetime'>\n"
     ]
    }
   ],
   "source": [
    "print(today1)\n",
    "print(today2)\n",
    "print(today2.strftime('%c'))\n",
    "print(type(today1),type(today2))"
   ]
  },
  {
   "cell_type": "markdown",
   "metadata": {},
   "source": [
    "We will use other functions of the datetime package later, and you could find more details about the attributes of the datetime object (variable): https://www.guru99.com/date-time-and-datetime-classes-in-python.html\n",
    "***"
   ]
  },
  {
   "cell_type": "markdown",
   "metadata": {
    "slideshow": {
     "slide_type": "slide"
    }
   },
   "source": [
    "## Python has a some basic data collections, we will talk about three of them:\n",
    "    List - ordered, changeable, allows duplicates\n",
    "    Tuple - ordered, unchangeable, allows duplicates\n",
    "    Dictionary - unordered, changeable, no duplicates allowed\n",
    "***"
   ]
  },
  {
   "cell_type": "markdown",
   "metadata": {},
   "source": [
    "## Lists: ordered, changeable, allows dupplicates\n",
    "<div class=\"alert alert-block alert-info\">\n",
    "    - Execute the code below and print the list\n",
    "    <br>\n",
    "    - Print the type of <b>mylist</b>\n",
    "</div>"
   ]
  },
  {
   "cell_type": "code",
   "execution_count": 17,
   "metadata": {},
   "outputs": [
    {
     "name": "stdout",
     "output_type": "stream",
     "text": [
      "['temperature', 'wind', 'salinity']\n",
      "<class 'list'>\n"
     ]
    }
   ],
   "source": [
    "mylist=['temperature', 'wind', 'salinity']  # note the use of [ ]\n",
    "print(mylist)\n",
    "print(type(mylist))"
   ]
  },
  {
   "cell_type": "markdown",
   "metadata": {},
   "source": [
    "### To access an element of a list we use the indices, that start at `0`\n",
    "<div class=\"alert alert-block alert-info\">\n",
    "    - Try printing: <b>mylist[0]</b>\n",
    "    <br>\n",
    "    - Now try reassigning the value of the second value to <b>'current velocity'</b>\n",
    "</div>"
   ]
  },
  {
   "cell_type": "code",
   "execution_count": 16,
   "metadata": {},
   "outputs": [
    {
     "name": "stdout",
     "output_type": "stream",
     "text": [
      "more change\n",
      "['more change', 'current velocity', 'salinity', 'wind speed']\n"
     ]
    }
   ],
   "source": [
    "print(mylist[0])\n",
    "mylist[1]='current velocity'\n",
    "print(mylist)"
   ]
  },
  {
   "cell_type": "markdown",
   "metadata": {},
   "source": [
    "### To add an element to the list use the method append\n",
    "<div class=\"alert alert-block alert-info\">\n",
    "    - Try <b>mylist.append('wind speed')</b>\n",
    "    <br>\n",
    "    - Then execute the next cell to print the entire list with a for loop\n",
    "</div>"
   ]
  },
  {
   "cell_type": "code",
   "execution_count": 18,
   "metadata": {},
   "outputs": [],
   "source": [
    "mylist.append('wind speed')"
   ]
  },
  {
   "cell_type": "code",
   "execution_count": 19,
   "metadata": {},
   "outputs": [
    {
     "name": "stdout",
     "output_type": "stream",
     "text": [
      "temperature has been recorded\n",
      "wind has been recorded\n",
      "salinity has been recorded\n",
      "wind speed has been recorded\n"
     ]
    }
   ],
   "source": [
    "for myvar in mylist:\n",
    "    print(myvar+\" has been recorded\")"
   ]
  },
  {
   "cell_type": "markdown",
   "metadata": {},
   "source": [
    "### Copying a list (or another object) needs to be done explicitely, other wise is just a new name for your variable\n",
    "<div class=\"alert alert-block alert-info\">\n",
    "    - Try these two codes:\n",
    "    <br>\n",
    "       <b>   yourlist1 = mylist.copy()</b>\n",
    "    <br>\n",
    "       <b>   yourlist2 = mylist</b>\n",
    "    <br>\n",
    "    - Then modify <b>yourlist1</b> and print it along with <b>mylist</b>\n",
    "    <br>\n",
    "    - Now modify <b>yourlist2</b> and print it along with <b>mylist</b>\n",
    "</div>"
   ]
  },
  {
   "cell_type": "code",
   "execution_count": 21,
   "metadata": {},
   "outputs": [
    {
     "name": "stdout",
     "output_type": "stream",
     "text": [
      "['more change', 'wind', 'salinity', 'wind speed']\n",
      "['change', 'wind', 'salinity', 'wind speed']\n",
      "\n",
      "\n",
      "['more change', 'wind', 'salinity', 'wind speed']\n",
      "['more change', 'wind', 'salinity', 'wind speed']\n"
     ]
    }
   ],
   "source": [
    "yourlist1=mylist.copy()\n",
    "yourlist2=mylist\n",
    "yourlist1[0]='change'\n",
    "print(mylist)\n",
    "print(yourlist1)\n",
    "yourlist2[0]='more change'\n",
    "print('\\n')\n",
    "print(mylist)\n",
    "print(yourlist2)"
   ]
  },
  {
   "cell_type": "markdown",
   "metadata": {},
   "source": [
    "***\n",
    "## Tuples: ordered, unchangeable, allows duplicates\n",
    "<div class=\"alert alert-block alert-info\">\n",
    "    - Execute the code below and print the tuple\n",
    "    <br>\n",
    "    - Print the type of <b>mytuple</b>\n",
    "    <br>\n",
    "    - Print one element of <b>mytuple</b>\n",
    "</div>"
   ]
  },
  {
   "cell_type": "code",
   "execution_count": 23,
   "metadata": {},
   "outputs": [
    {
     "name": "stdout",
     "output_type": "stream",
     "text": [
      "<class 'tuple'>\n",
      "latitude\n"
     ]
    }
   ],
   "source": [
    "mytuple = ('latitude', 'longitude', 'time')  # note the use of ( )\n",
    "print(type(mytuple))\n",
    "print(mytuple[0])"
   ]
  },
  {
   "cell_type": "markdown",
   "metadata": {},
   "source": [
    "<div class=\"alert alert-block alert-info\">\n",
    "    - Now try reassigning an element of <b>mytuple</b>\n",
    "</div>"
   ]
  },
  {
   "cell_type": "code",
   "execution_count": 24,
   "metadata": {},
   "outputs": [
    {
     "ename": "SyntaxError",
     "evalue": "keyword can't be an expression (<ipython-input-24-7604ff6dc3ca>, line 1)",
     "output_type": "error",
     "traceback": [
      "\u001b[0;36m  File \u001b[0;32m\"<ipython-input-24-7604ff6dc3ca>\"\u001b[0;36m, line \u001b[0;32m1\u001b[0m\n\u001b[0;31m    print(mytuple[1]='step')\u001b[0m\n\u001b[0m         ^\u001b[0m\n\u001b[0;31mSyntaxError\u001b[0m\u001b[0;31m:\u001b[0m keyword can't be an expression\n"
     ]
    }
   ],
   "source": [
    "print(mytuple[1]='step')"
   ]
  },
  {
   "cell_type": "markdown",
   "metadata": {},
   "source": [
    "*** \n",
    "## Dictionaries: unordered, changeable, no duplicates allowed\n",
    "### Indexed pair of keys and values\n",
    "<div class=\"alert alert-block alert-info\">\n",
    "    - Execute the code below, and print the dictionary\n",
    "    <br>\n",
    "    - Add a new element to <b>mydict</b> with <b>mydict['units']='C'</b>\n",
    "    <br>\n",
    "    - Print one element of <b>mydict</b>. <i>Hint: the key is the key</i> \n",
    "</div>"
   ]
  },
  {
   "cell_type": "code",
   "execution_count": 28,
   "metadata": {},
   "outputs": [
    {
     "name": "stdout",
     "output_type": "stream",
     "text": [
      "{'instrument': 'temperature sensor', 'measurement': 'SST', 'depth': 5}\n",
      "{'instrument': 'temperature sensor', 'measurement': 'SST', 'depth': 5, 'units': 'C'}\n"
     ]
    }
   ],
   "source": [
    "mydict = {'instrument': 'temperature sensor', 'measurement':'SST','depth': 5}\n",
    "print(mydict)\n",
    "mydict['units']='C'\n"
   ]
  },
  {
   "cell_type": "code",
   "execution_count": 29,
   "metadata": {},
   "outputs": [
    {
     "name": "stdout",
     "output_type": "stream",
     "text": [
      "SST\n"
     ]
    }
   ],
   "source": [
    "print(mydict['measurement'])"
   ]
  },
  {
   "cell_type": "markdown",
   "metadata": {
    "slideshow": {
     "slide_type": "slide"
    }
   },
   "source": [
    "Certain libraries have specific data structures - arrays, data frames, and datasets\n",
    "examples of each, but we will go back talking about each library."
   ]
  },
  {
   "cell_type": "markdown",
   "metadata": {},
   "source": [
    "***\n",
    "***\n",
    "# Few words about `Objects`, `Attributes` & `Methods`\n",
    "## `Python` is an object oriented programming language. This means almost everything is an object or instances of a class. Variables are objects. And therefore they have `attributes` & `methods`\n",
    "\n",
    "### `Properties` or `Attributes` are accessed with  `.attribute` after the object\n",
    "### `Methods` are functions, & are accessed with `.method(arguments)` after the object\n",
    "We're not going to teach you how to create classes with properties or methods, but how to access them, because we will use them extensively\n",
    "<div class=\"alert alert-block alert-info\">\n",
    "    Execute the code in the next cell to access the attributes and one method of the class <b>date</b>\n",
    "    </div>"
   ]
  },
  {
   "cell_type": "code",
   "execution_count": 30,
   "metadata": {},
   "outputs": [
    {
     "name": "stdout",
     "output_type": "stream",
     "text": [
      "2019-05-29\n",
      "2019 5 29\n",
      "Wed May 29 00:00:00 2019\n"
     ]
    }
   ],
   "source": [
    "today = date.today()\n",
    "print(today)\n",
    "## Date object attributes\n",
    "print(today.year, today.month, today.day) \n",
    "## Date object method 'ctime' - do not need arguments\n",
    "print(today.ctime())"
   ]
  }
 ],
 "metadata": {
  "kernelspec": {
   "display_name": "Python 3",
   "language": "python",
   "name": "python3"
  },
  "language_info": {
   "codemirror_mode": {
    "name": "ipython",
    "version": 3
   },
   "file_extension": ".py",
   "mimetype": "text/x-python",
   "name": "python",
   "nbconvert_exporter": "python",
   "pygments_lexer": "ipython3",
   "version": "3.7.1"
  }
 },
 "nbformat": 4,
 "nbformat_minor": 2
}
